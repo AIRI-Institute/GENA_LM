{
 "cells": [
  {
   "cell_type": "code",
   "execution_count": 17,
   "id": "a7761fc4-198c-4878-843d-cea4816acb00",
   "metadata": {},
   "outputs": [],
   "source": [
    "from pysam import VariantFile\n",
    "from collections import defaultdict \n",
    "from collections import Counter \n",
    "import pandas as pd \n",
    "import bioframe as bf\n",
    "\n",
    "def search_omim(rec):\n",
    "    bases = rec.info.get('CLNDISDB')\n",
    "    if bases is None:\n",
    "        return []\n",
    "    omim_ids = []\n",
    "    for b in bases:\n",
    "        if \":\" in b:\n",
    "            name, ind = b.split(\":\", maxsplit=1)\n",
    "            if name == 'OMIM':\n",
    "                omim_name = ind.split(\"|\")[0]\n",
    "                omim_ids.append(omim_name)\n",
    "    return omim_ids\n",
    "    \n",
    "def parse_clinvar(inpath: str):\n",
    "    bcf_in = VariantFile(inpath)\n",
    "    lines = []\n",
    "\n",
    "    filter_out_stats = ('_single_submitter', '_conflicting_interpretations') # remove questionable entries  \n",
    "    for rec in bcf_in.fetch():\n",
    "        omim_ids = search_omim(rec)\n",
    "        if len(omim_ids) == 0:\n",
    "            omim_ids = None\n",
    "        else:\n",
    "            omim_ids = \";\".join(omim_ids)\n",
    "        if rec.alts is not None:\n",
    "            alt = rec.alts[0] # only one alt for record in clinvar \n",
    "        else:\n",
    "            alt = None\n",
    "        sign = rec.info.get('CLNSIG')\n",
    "        if sign:\n",
    "            sign = \";\".join(sign)\n",
    "        gene_info = rec.info.get('GENEINFO')\n",
    "        consequences =  rec.info.get('MC', [])\n",
    "        consequences = \";\".join(consequences)\n",
    "        filter_out = False\n",
    "        possible_stats = rec.info.get('CLNREVSTAT')\n",
    "        if possible_stats:\n",
    "            stats = \";\".join(possible_stats)\n",
    "            for s in possible_stats:\n",
    "                if s in filter_out_stats:\n",
    "                    filter_out = True\n",
    "        else:\n",
    "            stats = None\n",
    "        if not filter_out:\n",
    "            lines.append( (rec.chrom, rec.start, rec.stop, rec.ref, alt, rec.id, omim_ids, gene_info, consequences, sign, stats))\n",
    "    return pd.DataFrame(lines, columns=[\"chrom\", \n",
    "                                        \"start\", \n",
    "                                        \"end\",\n",
    "                                        \"ref\", \n",
    "                                        \"alt\", \n",
    "                                        \"clinvar_id\", \n",
    "                                        \"omim_ids\", \n",
    "                                        \"gene_info\", \n",
    "                                        \"consequences\",\n",
    "                                        \"significance\",\n",
    "                                        \"stats\"])                "
   ]
  },
  {
   "cell_type": "code",
   "execution_count": 2,
   "id": "aa65e1ea-532f-4ba5-b6ee-282290bb70ad",
   "metadata": {},
   "outputs": [
    {
     "name": "stdout",
     "output_type": "stream",
     "text": [
      "--2024-03-28 14:55:09--  https://ftp.ncbi.nlm.nih.gov/pub/clinvar/vcf_GRCh38/weekly/clinvar_20240107.vcf.gz\n",
      "Resolving ftp.ncbi.nlm.nih.gov (ftp.ncbi.nlm.nih.gov)... 130.14.250.10, 130.14.250.7, 2607:f220:41e:250::7, ...\n",
      "Connecting to ftp.ncbi.nlm.nih.gov (ftp.ncbi.nlm.nih.gov)|130.14.250.10|:443... connected.\n",
      "HTTP request sent, awaiting response... 200 OK\n",
      "Length: 91330038 (87M) [application/x-gzip]\n",
      "Saving to: ‘clinvar_20240107.vcf.gz.1’\n",
      "\n",
      "clinvar_20240107.vc 100%[===================>]  87.10M  24.9MB/s    in 4.1s    \n",
      "\n",
      "2024-03-28 14:55:14 (21.4 MB/s) - ‘clinvar_20240107.vcf.gz.1’ saved [91330038/91330038]\n",
      "\n",
      "clinvar_20240107.vcf\t   clinvar.ipynb\n",
      "clinvar_20240107.vcf.gz.1  clinvar_significance_mapping.txt\n",
      "clinvar_cleaned.tsv\n"
     ]
    }
   ],
   "source": [
    "!rm -f clinvar_20240107.vcf\n",
    "!wget https://ftp.ncbi.nlm.nih.gov/pub/clinvar/vcf_GRCh38/weekly/clinvar_20240107.vcf.gz\n",
    "!gunzip clinvar_20240107.vcf.gz\n",
    "!ls"
   ]
  },
  {
   "cell_type": "code",
   "execution_count": 3,
   "id": "722105c6-d3a4-4552-88b9-25e232eaccc9",
   "metadata": {},
   "outputs": [
    {
     "name": "stderr",
     "output_type": "stream",
     "text": [
      "[W::vcf_parse] Contig '1' is not defined in the header. (Quick workaround: index the file with tabix.)\n",
      "[W::vcf_parse] Contig '2' is not defined in the header. (Quick workaround: index the file with tabix.)\n",
      "[W::vcf_parse] Contig '3' is not defined in the header. (Quick workaround: index the file with tabix.)\n",
      "[W::vcf_parse] Contig '4' is not defined in the header. (Quick workaround: index the file with tabix.)\n",
      "[W::vcf_parse] Contig '5' is not defined in the header. (Quick workaround: index the file with tabix.)\n",
      "[W::vcf_parse] Contig '6' is not defined in the header. (Quick workaround: index the file with tabix.)\n",
      "[W::vcf_parse] Contig '7' is not defined in the header. (Quick workaround: index the file with tabix.)\n",
      "[W::vcf_parse] Contig '8' is not defined in the header. (Quick workaround: index the file with tabix.)\n",
      "[W::vcf_parse] Contig '9' is not defined in the header. (Quick workaround: index the file with tabix.)\n",
      "[W::vcf_parse] Contig '10' is not defined in the header. (Quick workaround: index the file with tabix.)\n",
      "[W::vcf_parse] Contig '11' is not defined in the header. (Quick workaround: index the file with tabix.)\n",
      "[W::vcf_parse] Contig '12' is not defined in the header. (Quick workaround: index the file with tabix.)\n",
      "[W::vcf_parse] Contig '13' is not defined in the header. (Quick workaround: index the file with tabix.)\n",
      "[W::vcf_parse] Contig '14' is not defined in the header. (Quick workaround: index the file with tabix.)\n",
      "[W::vcf_parse] Contig '15' is not defined in the header. (Quick workaround: index the file with tabix.)\n",
      "[W::vcf_parse] Contig '16' is not defined in the header. (Quick workaround: index the file with tabix.)\n",
      "[W::vcf_parse] Contig '17' is not defined in the header. (Quick workaround: index the file with tabix.)\n",
      "[W::vcf_parse] Contig '18' is not defined in the header. (Quick workaround: index the file with tabix.)\n",
      "[W::vcf_parse] Contig '19' is not defined in the header. (Quick workaround: index the file with tabix.)\n",
      "[W::vcf_parse] Contig '20' is not defined in the header. (Quick workaround: index the file with tabix.)\n",
      "[W::vcf_parse] Contig '21' is not defined in the header. (Quick workaround: index the file with tabix.)\n",
      "[W::vcf_parse] Contig '22' is not defined in the header. (Quick workaround: index the file with tabix.)\n",
      "[W::vcf_parse] Contig 'X' is not defined in the header. (Quick workaround: index the file with tabix.)\n",
      "[W::vcf_parse] Contig 'Y' is not defined in the header. (Quick workaround: index the file with tabix.)\n",
      "[W::vcf_parse] Contig 'MT' is not defined in the header. (Quick workaround: index the file with tabix.)\n",
      "[W::vcf_parse] Contig 'NT_113889.1' is not defined in the header. (Quick workaround: index the file with tabix.)\n",
      "[W::vcf_parse] Contig 'NT_187633.1' is not defined in the header. (Quick workaround: index the file with tabix.)\n",
      "[W::vcf_parse] Contig 'NT_187661.1' is not defined in the header. (Quick workaround: index the file with tabix.)\n",
      "[W::vcf_parse] Contig 'NT_187693.1' is not defined in the header. (Quick workaround: index the file with tabix.)\n",
      "[W::vcf_parse] Contig 'NW_009646201.1' is not defined in the header. (Quick workaround: index the file with tabix.)\n"
     ]
    }
   ],
   "source": [
    "clinvar = parse_clinvar(\"clinvar_20240107.vcf\")"
   ]
  },
  {
   "cell_type": "code",
   "execution_count": 4,
   "id": "255e8eba-79ed-4efc-8cab-59d1741c33ef",
   "metadata": {},
   "outputs": [],
   "source": [
    "cnt = Counter([x for y in clinvar['stats'][~pd.isnull(clinvar['stats'])].str.split(\";\") for x in y])"
   ]
  },
  {
   "cell_type": "code",
   "execution_count": 5,
   "id": "3db4cfb1-843e-4613-b312-c72075817e2d",
   "metadata": {},
   "outputs": [
    {
     "data": {
      "text/plain": [
       "[('criteria_provided', 352265),\n",
       " ('_multiple_submitters', 352265),\n",
       " ('_no_conflicts', 352265),\n",
       " ('no_assertion_criteria_provided', 50305),\n",
       " ('reviewed_by_expert_panel', 15557),\n",
       " ('no_assertion_provided', 10289),\n",
       " ('no_interpretation_for_the_single_variant', 719),\n",
       " ('practice_guideline', 51)]"
      ]
     },
     "execution_count": 5,
     "metadata": {},
     "output_type": "execute_result"
    }
   ],
   "source": [
    "cnt.most_common()"
   ]
  },
  {
   "cell_type": "code",
   "execution_count": 6,
   "id": "c82fc5d0-8d43-4eb7-9c25-1f1f1587ce58",
   "metadata": {},
   "outputs": [],
   "source": [
    "AUTOSOMES = set(map(str, range(1, 23)))\n",
    "clinvar['chrom'] = clinvar['chrom'].apply(lambda x: f\"chr{x}\" if x in AUTOSOMES or x in ('X', 'Y') else \"chrM\" if x == \"MT\" else x)\n"
   ]
  },
  {
   "cell_type": "code",
   "execution_count": 7,
   "id": "01f22abf-85a3-4895-9fc0-06b8fc1c59c2",
   "metadata": {},
   "outputs": [],
   "source": [
    "clinvar = clinvar[~pd.isnull(clinvar['significance'])].copy()"
   ]
  },
  {
   "cell_type": "code",
   "execution_count": 8,
   "id": "df6d16dd-bc70-4d30-a504-68d6ad626cca",
   "metadata": {},
   "outputs": [],
   "source": [
    "clinvar.to_csv(\"clinvar_cleaned.tsv\", sep=\"\\t\", index=None)"
   ]
  },
  {
   "cell_type": "code",
   "execution_count": 9,
   "id": "e93d8799-b2e6-4265-baf6-3fd8c52a2fb4",
   "metadata": {},
   "outputs": [],
   "source": [
    "with open(\"clinvar_significance_mapping.txt\") as inp:\n",
    "     significance_mapping = dict(line.rstrip().rsplit(\";\", 1) for line in inp)"
   ]
  },
  {
   "cell_type": "code",
   "execution_count": 10,
   "id": "4a2e1f66-bda9-4be2-892a-41e139781b08",
   "metadata": {},
   "outputs": [],
   "source": [
    "clinvar['significance'] = clinvar['significance'].apply(lambda x: significance_mapping[x])"
   ]
  },
  {
   "cell_type": "code",
   "execution_count": 14,
   "id": "a3d7ffba-3bbd-47ed-bd0b-7ad6d91ca6eb",
   "metadata": {},
   "outputs": [],
   "source": [
    "clinvar = clinvar[clinvar['significance'] != \"none\"]"
   ]
  },
  {
   "cell_type": "code",
   "execution_count": 33,
   "id": "eb278c1d-1762-493c-9a1d-d87737a1cb9e",
   "metadata": {},
   "outputs": [],
   "source": [
    "exons = pd.read_table(\"exons.bed\")"
   ]
  },
  {
   "cell_type": "code",
   "execution_count": 43,
   "id": "1f31175f-db2d-4c2a-ac88-694f0d6c3e7b",
   "metadata": {},
   "outputs": [],
   "source": [
    "clinvar_no_exons = bf.setdiff(clinvar, exons)"
   ]
  },
  {
   "cell_type": "code",
   "execution_count": 44,
   "id": "19262913-57d4-4f67-bee5-0b53f98811fa",
   "metadata": {},
   "outputs": [
    {
     "data": {
      "text/plain": [
       "(36377, 11)"
      ]
     },
     "execution_count": 44,
     "metadata": {},
     "output_type": "execute_result"
    }
   ],
   "source": [
    "clinvar_no_exons.shape"
   ]
  },
  {
   "cell_type": "code",
   "execution_count": 46,
   "id": "f2f26e68-42af-4983-96b3-20b5e1559504",
   "metadata": {},
   "outputs": [],
   "source": [
    "clinvar_no_exons.to_csv(\"clinvar_reg.tsv\", sep=\"\\t\", index=None)"
   ]
  }
 ],
 "metadata": {
  "kernelspec": {
   "display_name": "Python 3 (ipykernel)",
   "language": "python",
   "name": "python3"
  },
  "language_info": {
   "codemirror_mode": {
    "name": "ipython",
    "version": 3
   },
   "file_extension": ".py",
   "mimetype": "text/x-python",
   "name": "python",
   "nbconvert_exporter": "python",
   "pygments_lexer": "ipython3",
   "version": "3.10.14"
  }
 },
 "nbformat": 4,
 "nbformat_minor": 5
}
