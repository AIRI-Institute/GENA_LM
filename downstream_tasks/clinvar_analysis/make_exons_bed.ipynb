{
 "cells": [
  {
   "cell_type": "code",
   "execution_count": 1,
   "id": "28e33c48-52f2-4949-a5fd-49f8c88aafc8",
   "metadata": {},
   "outputs": [
    {
     "name": "stdout",
     "output_type": "stream",
     "text": [
      "--2024-03-28 15:15:35--  https://ftp.ebi.ac.uk/pub/databases/gencode/Gencode_human/release_45/gencode.v45.annotation.gtf.gz\n",
      "Resolving ftp.ebi.ac.uk (ftp.ebi.ac.uk)... 193.62.193.165\n",
      "Connecting to ftp.ebi.ac.uk (ftp.ebi.ac.uk)|193.62.193.165|:443... connected.\n",
      "HTTP request sent, awaiting response... 200 OK\n",
      "Length: 49770653 (47M) [application/x-gzip]\n",
      "Saving to: ‘gencode.v45.annotation.gtf.gz’\n",
      "\n",
      "gencode.v45.annotat 100%[===================>]  47.46M  1.19MB/s    in 41s     \n",
      "\n",
      "2024-03-28 15:16:16 (1.17 MB/s) - ‘gencode.v45.annotation.gtf.gz’ saved [49770653/49770653]\n",
      "\n"
     ]
    }
   ],
   "source": [
    "!wget https://ftp.ebi.ac.uk/pub/databases/gencode/Gencode_human/release_45/gencode.v45.annotation.gtf.gz"
   ]
  },
  {
   "cell_type": "code",
   "execution_count": 2,
   "id": "346e5974-74e1-4d0e-b8a8-402bb54518b2",
   "metadata": {},
   "outputs": [],
   "source": [
    "!gunzip gencode.v45.annotation.gtf.gz"
   ]
  },
  {
   "cell_type": "code",
   "execution_count": 3,
   "id": "835a7c52-79d1-4357-b6c5-32c53f14c7a9",
   "metadata": {},
   "outputs": [
    {
     "name": "stdout",
     "output_type": "stream",
     "text": [
      "gencode.v45.annotation.gtf\n"
     ]
    }
   ],
   "source": [
    "!ls gencode.v45.annotation.gtf"
   ]
  },
  {
   "cell_type": "code",
   "execution_count": 4,
   "id": "4170cbb5-fee7-4eeb-af00-4713358176c5",
   "metadata": {},
   "outputs": [],
   "source": [
    "import pandas as pd \n",
    "\n",
    "from dataclasses import dataclass, field\n",
    "\n",
    "@dataclass\n",
    "class GFFMeta:\n",
    "    tags: set[str] = field(default_factory=set)\n",
    "    attrs: dict[str, str] = field(default_factory=dict)\n",
    "\n",
    "    @classmethod\n",
    "    def from_str(cls, s: str):\n",
    "        self = cls() \n",
    "        fields = s.split(\"; \")\n",
    "        for field in fields:\n",
    "            if field.startswith(\"tag \"):\n",
    "                self.tags.add(field[4:]) # remove 'tag '\n",
    "            else:\n",
    "                key, value = field.split(\" \", maxsplit=1)\n",
    "                self.attrs[key] = value\n",
    "        return self\n",
    "                "
   ]
  },
  {
   "cell_type": "code",
   "execution_count": 5,
   "id": "478805e1-29ca-47c5-b794-d9f24e57f99d",
   "metadata": {},
   "outputs": [],
   "source": [
    "df = pd.read_table(\"gencode.v45.annotation.gtf\", \n",
    "                   sep=\"\\t\", \n",
    "                   comment=\"#\",\n",
    "                   header=None,\n",
    "                   names=[\"chrom\",\n",
    "                          \"source\",\n",
    "                          \"feature\",\n",
    "                          \"start\",\n",
    "                          \"end\",\n",
    "                          \"score\",\n",
    "                          \"strand\",\n",
    "                          \"fname\",\n",
    "                          \"attribute\"])"
   ]
  },
  {
   "cell_type": "code",
   "execution_count": 6,
   "id": "9215ea4c-5dca-4545-94ac-e3342daae689",
   "metadata": {},
   "outputs": [
    {
     "data": {
      "text/html": [
       "<div>\n",
       "<style scoped>\n",
       "    .dataframe tbody tr th:only-of-type {\n",
       "        vertical-align: middle;\n",
       "    }\n",
       "\n",
       "    .dataframe tbody tr th {\n",
       "        vertical-align: top;\n",
       "    }\n",
       "\n",
       "    .dataframe thead th {\n",
       "        text-align: right;\n",
       "    }\n",
       "</style>\n",
       "<table border=\"1\" class=\"dataframe\">\n",
       "  <thead>\n",
       "    <tr style=\"text-align: right;\">\n",
       "      <th></th>\n",
       "      <th>chrom</th>\n",
       "      <th>source</th>\n",
       "      <th>feature</th>\n",
       "      <th>start</th>\n",
       "      <th>end</th>\n",
       "      <th>score</th>\n",
       "      <th>strand</th>\n",
       "      <th>fname</th>\n",
       "      <th>attribute</th>\n",
       "    </tr>\n",
       "  </thead>\n",
       "  <tbody>\n",
       "    <tr>\n",
       "      <th>0</th>\n",
       "      <td>chr1</td>\n",
       "      <td>HAVANA</td>\n",
       "      <td>gene</td>\n",
       "      <td>11869</td>\n",
       "      <td>14409</td>\n",
       "      <td>.</td>\n",
       "      <td>+</td>\n",
       "      <td>.</td>\n",
       "      <td>gene_id \"ENSG00000290825.1\"; gene_type \"lncRNA...</td>\n",
       "    </tr>\n",
       "    <tr>\n",
       "      <th>1</th>\n",
       "      <td>chr1</td>\n",
       "      <td>HAVANA</td>\n",
       "      <td>transcript</td>\n",
       "      <td>11869</td>\n",
       "      <td>14409</td>\n",
       "      <td>.</td>\n",
       "      <td>+</td>\n",
       "      <td>.</td>\n",
       "      <td>gene_id \"ENSG00000290825.1\"; transcript_id \"EN...</td>\n",
       "    </tr>\n",
       "    <tr>\n",
       "      <th>2</th>\n",
       "      <td>chr1</td>\n",
       "      <td>HAVANA</td>\n",
       "      <td>exon</td>\n",
       "      <td>11869</td>\n",
       "      <td>12227</td>\n",
       "      <td>.</td>\n",
       "      <td>+</td>\n",
       "      <td>.</td>\n",
       "      <td>gene_id \"ENSG00000290825.1\"; transcript_id \"EN...</td>\n",
       "    </tr>\n",
       "    <tr>\n",
       "      <th>3</th>\n",
       "      <td>chr1</td>\n",
       "      <td>HAVANA</td>\n",
       "      <td>exon</td>\n",
       "      <td>12613</td>\n",
       "      <td>12721</td>\n",
       "      <td>.</td>\n",
       "      <td>+</td>\n",
       "      <td>.</td>\n",
       "      <td>gene_id \"ENSG00000290825.1\"; transcript_id \"EN...</td>\n",
       "    </tr>\n",
       "    <tr>\n",
       "      <th>4</th>\n",
       "      <td>chr1</td>\n",
       "      <td>HAVANA</td>\n",
       "      <td>exon</td>\n",
       "      <td>13221</td>\n",
       "      <td>14409</td>\n",
       "      <td>.</td>\n",
       "      <td>+</td>\n",
       "      <td>.</td>\n",
       "      <td>gene_id \"ENSG00000290825.1\"; transcript_id \"EN...</td>\n",
       "    </tr>\n",
       "  </tbody>\n",
       "</table>\n",
       "</div>"
      ],
      "text/plain": [
       "  chrom  source     feature  start    end score strand fname  \\\n",
       "0  chr1  HAVANA        gene  11869  14409     .      +     .   \n",
       "1  chr1  HAVANA  transcript  11869  14409     .      +     .   \n",
       "2  chr1  HAVANA        exon  11869  12227     .      +     .   \n",
       "3  chr1  HAVANA        exon  12613  12721     .      +     .   \n",
       "4  chr1  HAVANA        exon  13221  14409     .      +     .   \n",
       "\n",
       "                                           attribute  \n",
       "0  gene_id \"ENSG00000290825.1\"; gene_type \"lncRNA...  \n",
       "1  gene_id \"ENSG00000290825.1\"; transcript_id \"EN...  \n",
       "2  gene_id \"ENSG00000290825.1\"; transcript_id \"EN...  \n",
       "3  gene_id \"ENSG00000290825.1\"; transcript_id \"EN...  \n",
       "4  gene_id \"ENSG00000290825.1\"; transcript_id \"EN...  "
      ]
     },
     "execution_count": 6,
     "metadata": {},
     "output_type": "execute_result"
    }
   ],
   "source": [
    "df.head()"
   ]
  },
  {
   "cell_type": "code",
   "execution_count": 7,
   "id": "0ee6ac6a-a67d-4fe1-856c-4eeca0bd80c0",
   "metadata": {},
   "outputs": [],
   "source": [
    "exons = df[df['feature'] == 'exon'].copy()"
   ]
  },
  {
   "cell_type": "code",
   "execution_count": 8,
   "id": "32971129-8b2b-4fdb-a9df-81c47662ac3e",
   "metadata": {},
   "outputs": [],
   "source": [
    "exons['attribute'] = exons['attribute'].apply(GFFMeta.from_str)"
   ]
  },
  {
   "cell_type": "code",
   "execution_count": 9,
   "id": "844c06d5-acd5-48ff-a013-5770e381a79d",
   "metadata": {},
   "outputs": [
    {
     "data": {
      "text/html": [
       "<div>\n",
       "<style scoped>\n",
       "    .dataframe tbody tr th:only-of-type {\n",
       "        vertical-align: middle;\n",
       "    }\n",
       "\n",
       "    .dataframe tbody tr th {\n",
       "        vertical-align: top;\n",
       "    }\n",
       "\n",
       "    .dataframe thead th {\n",
       "        text-align: right;\n",
       "    }\n",
       "</style>\n",
       "<table border=\"1\" class=\"dataframe\">\n",
       "  <thead>\n",
       "    <tr style=\"text-align: right;\">\n",
       "      <th></th>\n",
       "      <th>chrom</th>\n",
       "      <th>source</th>\n",
       "      <th>feature</th>\n",
       "      <th>start</th>\n",
       "      <th>end</th>\n",
       "      <th>score</th>\n",
       "      <th>strand</th>\n",
       "      <th>fname</th>\n",
       "      <th>attribute</th>\n",
       "    </tr>\n",
       "  </thead>\n",
       "  <tbody>\n",
       "    <tr>\n",
       "      <th>2</th>\n",
       "      <td>chr1</td>\n",
       "      <td>HAVANA</td>\n",
       "      <td>exon</td>\n",
       "      <td>11869</td>\n",
       "      <td>12227</td>\n",
       "      <td>.</td>\n",
       "      <td>+</td>\n",
       "      <td>.</td>\n",
       "      <td>GFFMeta(tags={'\"basic\"', '\"Ensembl_canonical\"'...</td>\n",
       "    </tr>\n",
       "    <tr>\n",
       "      <th>3</th>\n",
       "      <td>chr1</td>\n",
       "      <td>HAVANA</td>\n",
       "      <td>exon</td>\n",
       "      <td>12613</td>\n",
       "      <td>12721</td>\n",
       "      <td>.</td>\n",
       "      <td>+</td>\n",
       "      <td>.</td>\n",
       "      <td>GFFMeta(tags={'\"basic\"', '\"Ensembl_canonical\"'...</td>\n",
       "    </tr>\n",
       "    <tr>\n",
       "      <th>4</th>\n",
       "      <td>chr1</td>\n",
       "      <td>HAVANA</td>\n",
       "      <td>exon</td>\n",
       "      <td>13221</td>\n",
       "      <td>14409</td>\n",
       "      <td>.</td>\n",
       "      <td>+</td>\n",
       "      <td>.</td>\n",
       "      <td>GFFMeta(tags={'\"basic\"', '\"Ensembl_canonical\"'...</td>\n",
       "    </tr>\n",
       "    <tr>\n",
       "      <th>7</th>\n",
       "      <td>chr1</td>\n",
       "      <td>HAVANA</td>\n",
       "      <td>exon</td>\n",
       "      <td>12010</td>\n",
       "      <td>12057</td>\n",
       "      <td>.</td>\n",
       "      <td>+</td>\n",
       "      <td>.</td>\n",
       "      <td>GFFMeta(tags={'\"basic\"', '\"Ensembl_canonical\"'...</td>\n",
       "    </tr>\n",
       "    <tr>\n",
       "      <th>8</th>\n",
       "      <td>chr1</td>\n",
       "      <td>HAVANA</td>\n",
       "      <td>exon</td>\n",
       "      <td>12179</td>\n",
       "      <td>12227</td>\n",
       "      <td>.</td>\n",
       "      <td>+</td>\n",
       "      <td>.</td>\n",
       "      <td>GFFMeta(tags={'\"basic\"', '\"Ensembl_canonical\"'...</td>\n",
       "    </tr>\n",
       "  </tbody>\n",
       "</table>\n",
       "</div>"
      ],
      "text/plain": [
       "  chrom  source feature  start    end score strand fname  \\\n",
       "2  chr1  HAVANA    exon  11869  12227     .      +     .   \n",
       "3  chr1  HAVANA    exon  12613  12721     .      +     .   \n",
       "4  chr1  HAVANA    exon  13221  14409     .      +     .   \n",
       "7  chr1  HAVANA    exon  12010  12057     .      +     .   \n",
       "8  chr1  HAVANA    exon  12179  12227     .      +     .   \n",
       "\n",
       "                                           attribute  \n",
       "2  GFFMeta(tags={'\"basic\"', '\"Ensembl_canonical\"'...  \n",
       "3  GFFMeta(tags={'\"basic\"', '\"Ensembl_canonical\"'...  \n",
       "4  GFFMeta(tags={'\"basic\"', '\"Ensembl_canonical\"'...  \n",
       "7  GFFMeta(tags={'\"basic\"', '\"Ensembl_canonical\"'...  \n",
       "8  GFFMeta(tags={'\"basic\"', '\"Ensembl_canonical\"'...  "
      ]
     },
     "execution_count": 9,
     "metadata": {},
     "output_type": "execute_result"
    }
   ],
   "source": [
    "exons.head()"
   ]
  },
  {
   "cell_type": "code",
   "execution_count": 10,
   "id": "783a0beb-d03e-439b-ad4d-d9b82f536cb8",
   "metadata": {},
   "outputs": [
    {
     "data": {
      "text/plain": [
       "attribute\n",
       "-100     470674\n",
       "\"1\"      404912\n",
       "\"5\"      288018\n",
       "\"2\"      235694\n",
       "\"3\"      136794\n",
       "\"4\"       71572\n",
       "\"NA\"      43034\n",
       "\"5\";          3\n",
       "\"NA\";         3\n",
       "Name: count, dtype: int64"
      ]
     },
     "execution_count": 10,
     "metadata": {},
     "output_type": "execute_result"
    }
   ],
   "source": [
    "exons['attribute'].apply(lambda x: x.attrs.get('transcript_support_level', '-100')).value_counts()"
   ]
  },
  {
   "cell_type": "code",
   "execution_count": 13,
   "id": "e68ee182-3281-4b70-b33c-af0d1b63cf8d",
   "metadata": {},
   "outputs": [],
   "source": [
    "# to zero-based annotation \n",
    "exons['start'] = exons['start'] - 1"
   ]
  },
  {
   "cell_type": "code",
   "execution_count": 14,
   "id": "e3b5e1d1-5e42-4135-9ef8-d8526d600502",
   "metadata": {},
   "outputs": [],
   "source": [
    "exons[['chrom', 'start', 'end']].to_csv(\"exons.bed\", sep=\"\\t\", index=False)"
   ]
  },
  {
   "cell_type": "code",
   "execution_count": 15,
   "id": "bd32ff56-34c6-4746-8c0f-fa7d131be43c",
   "metadata": {},
   "outputs": [
    {
     "name": "stdout",
     "output_type": "stream",
     "text": [
      "chrom\tstart\tend\n",
      "chr1\t11868\t12227\n",
      "chr1\t12612\t12721\n",
      "chr1\t13220\t14409\n",
      "chr1\t12009\t12057\n",
      "chr1\t12178\t12227\n",
      "chr1\t12612\t12697\n",
      "chr1\t12974\t13052\n",
      "chr1\t13220\t13374\n",
      "chr1\t13452\t13670\n"
     ]
    }
   ],
   "source": [
    "!head exons.bed"
   ]
  },
  {
   "cell_type": "code",
   "execution_count": null,
   "id": "5f657d7d-05da-4ea8-9fd6-950964d8237a",
   "metadata": {},
   "outputs": [],
   "source": []
  }
 ],
 "metadata": {
  "kernelspec": {
   "display_name": "Python 3 (ipykernel)",
   "language": "python",
   "name": "python3"
  },
  "language_info": {
   "codemirror_mode": {
    "name": "ipython",
    "version": 3
   },
   "file_extension": ".py",
   "mimetype": "text/x-python",
   "name": "python",
   "nbconvert_exporter": "python",
   "pygments_lexer": "ipython3",
   "version": "3.10.14"
  }
 },
 "nbformat": 4,
 "nbformat_minor": 5
}
