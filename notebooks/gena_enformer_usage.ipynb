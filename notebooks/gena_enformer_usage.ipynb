{
  "cells": [
    {
      "cell_type": "markdown",
      "source": [
        "# Gena Enformer Usage\n",
        "[![Open In Colab](https://colab.research.google.com/assets/colab-badge.svg)](https://colab.research.google.com/github/AIRI-Institute/GENA_LM/blob/main/notebooks/gena_enformer_usage.ipynb)"
      ],
      "metadata": {
        "id": "yDDKccjSKITW"
      }
    },
    {
      "cell_type": "markdown",
      "source": [
        "In this notebook we will finde mutations that are linked with TXNL4A gene with the help of GENA model that was trained on dataset from Enformer article."
      ],
      "metadata": {
        "id": "MYewlsxMKWPQ"
      }
    },
    {
      "cell_type": "markdown",
      "metadata": {
        "id": "W_iciM7S1zz5"
      },
      "source": [
        "# Install/Import libs\n"
      ]
    },
    {
      "cell_type": "code",
      "execution_count": 1,
      "metadata": {
        "colab": {
          "base_uri": "https://localhost:8080/"
        },
        "id": "4nfLzugb1fqP",
        "outputId": "bb978877-0220-4d17-9df4-88ea476a069f"
      },
      "outputs": [
        {
          "output_type": "stream",
          "name": "stdout",
          "text": [
            "Collecting transformers\n",
            "  Downloading transformers-4.32.1-py3-none-any.whl (7.5 MB)\n",
            "\u001b[2K     \u001b[90m━━━━━━━━━━━━━━━━━━━━━━━━━━━━━━━━━━━━━━━━\u001b[0m \u001b[32m7.5/7.5 MB\u001b[0m \u001b[31m17.7 MB/s\u001b[0m eta \u001b[36m0:00:00\u001b[0m\n",
            "\u001b[?25hRequirement already satisfied: filelock in /usr/local/lib/python3.10/dist-packages (from transformers) (3.12.2)\n",
            "Collecting huggingface-hub<1.0,>=0.15.1 (from transformers)\n",
            "  Downloading huggingface_hub-0.16.4-py3-none-any.whl (268 kB)\n",
            "\u001b[2K     \u001b[90m━━━━━━━━━━━━━━━━━━━━━━━━━━━━━━━━━━━━━━\u001b[0m \u001b[32m268.8/268.8 kB\u001b[0m \u001b[31m24.9 MB/s\u001b[0m eta \u001b[36m0:00:00\u001b[0m\n",
            "\u001b[?25hRequirement already satisfied: numpy>=1.17 in /usr/local/lib/python3.10/dist-packages (from transformers) (1.23.5)\n",
            "Requirement already satisfied: packaging>=20.0 in /usr/local/lib/python3.10/dist-packages (from transformers) (23.1)\n",
            "Requirement already satisfied: pyyaml>=5.1 in /usr/local/lib/python3.10/dist-packages (from transformers) (6.0.1)\n",
            "Requirement already satisfied: regex!=2019.12.17 in /usr/local/lib/python3.10/dist-packages (from transformers) (2023.6.3)\n",
            "Requirement already satisfied: requests in /usr/local/lib/python3.10/dist-packages (from transformers) (2.31.0)\n",
            "Collecting tokenizers!=0.11.3,<0.14,>=0.11.1 (from transformers)\n",
            "  Downloading tokenizers-0.13.3-cp310-cp310-manylinux_2_17_x86_64.manylinux2014_x86_64.whl (7.8 MB)\n",
            "\u001b[2K     \u001b[90m━━━━━━━━━━━━━━━━━━━━━━━━━━━━━━━━━━━━━━━━\u001b[0m \u001b[32m7.8/7.8 MB\u001b[0m \u001b[31m29.2 MB/s\u001b[0m eta \u001b[36m0:00:00\u001b[0m\n",
            "\u001b[?25hCollecting safetensors>=0.3.1 (from transformers)\n",
            "  Downloading safetensors-0.3.3-cp310-cp310-manylinux_2_17_x86_64.manylinux2014_x86_64.whl (1.3 MB)\n",
            "\u001b[2K     \u001b[90m━━━━━━━━━━━━━━━━━━━━━━━━━━━━━━━━━━━━━━━━\u001b[0m \u001b[32m1.3/1.3 MB\u001b[0m \u001b[31m24.9 MB/s\u001b[0m eta \u001b[36m0:00:00\u001b[0m\n",
            "\u001b[?25hRequirement already satisfied: tqdm>=4.27 in /usr/local/lib/python3.10/dist-packages (from transformers) (4.66.1)\n",
            "Requirement already satisfied: fsspec in /usr/local/lib/python3.10/dist-packages (from huggingface-hub<1.0,>=0.15.1->transformers) (2023.6.0)\n",
            "Requirement already satisfied: typing-extensions>=3.7.4.3 in /usr/local/lib/python3.10/dist-packages (from huggingface-hub<1.0,>=0.15.1->transformers) (4.7.1)\n",
            "Requirement already satisfied: charset-normalizer<4,>=2 in /usr/local/lib/python3.10/dist-packages (from requests->transformers) (3.2.0)\n",
            "Requirement already satisfied: idna<4,>=2.5 in /usr/local/lib/python3.10/dist-packages (from requests->transformers) (3.4)\n",
            "Requirement already satisfied: urllib3<3,>=1.21.1 in /usr/local/lib/python3.10/dist-packages (from requests->transformers) (2.0.4)\n",
            "Requirement already satisfied: certifi>=2017.4.17 in /usr/local/lib/python3.10/dist-packages (from requests->transformers) (2023.7.22)\n",
            "Installing collected packages: tokenizers, safetensors, huggingface-hub, transformers\n",
            "Successfully installed huggingface-hub-0.16.4 safetensors-0.3.3 tokenizers-0.13.3 transformers-4.32.1\n",
            "Collecting pysam\n",
            "  Downloading pysam-0.21.0-cp310-cp310-manylinux_2_24_x86_64.whl (20.0 MB)\n",
            "\u001b[2K     \u001b[90m━━━━━━━━━━━━━━━━━━━━━━━━━━━━━━━━━━━━━━━━\u001b[0m \u001b[32m20.0/20.0 MB\u001b[0m \u001b[31m32.6 MB/s\u001b[0m eta \u001b[36m0:00:00\u001b[0m\n",
            "\u001b[?25hRequirement already satisfied: cython in /usr/local/lib/python3.10/dist-packages (from pysam) (0.29.36)\n",
            "Installing collected packages: pysam\n",
            "Successfully installed pysam-0.21.0\n",
            "Collecting biopython\n",
            "  Downloading biopython-1.81-cp310-cp310-manylinux_2_17_x86_64.manylinux2014_x86_64.whl (3.1 MB)\n",
            "\u001b[2K     \u001b[90m━━━━━━━━━━━━━━━━━━━━━━━━━━━━━━━━━━━━━━━━\u001b[0m \u001b[32m3.1/3.1 MB\u001b[0m \u001b[31m9.7 MB/s\u001b[0m eta \u001b[36m0:00:00\u001b[0m\n",
            "\u001b[?25hRequirement already satisfied: numpy in /usr/local/lib/python3.10/dist-packages (from biopython) (1.23.5)\n",
            "Installing collected packages: biopython\n",
            "Successfully installed biopython-1.81\n"
          ]
        }
      ],
      "source": [
        "! pip install transformers\n",
        "! pip install pysam\n",
        "! pip install biopython"
      ]
    },
    {
      "cell_type": "code",
      "execution_count": 2,
      "metadata": {
        "id": "-sWFBu_21y02"
      },
      "outputs": [],
      "source": [
        "from transformers import AutoTokenizer, AutoModel\n",
        "import numpy as np\n",
        "import torch\n",
        "import matplotlib.pyplot as plt\n",
        "import os\n",
        "import pandas as pd\n",
        "import pysam # indexation starts from 1!\n",
        "from Bio.Seq import Seq"
      ]
    },
    {
      "cell_type": "code",
      "execution_count": 3,
      "metadata": {
        "id": "d76_q-xW18Oz"
      },
      "outputs": [],
      "source": [
        "os.environ['TOKENIZERS_PARALLELISM'] = 'false'"
      ]
    },
    {
      "cell_type": "markdown",
      "metadata": {
        "id": "bVB6moD_2B-1"
      },
      "source": [
        "# Download data"
      ]
    },
    {
      "cell_type": "markdown",
      "metadata": {
        "id": "DC1fvEa7ApK5"
      },
      "source": [
        "Firstly, we need to download full human genome assembly"
      ]
    },
    {
      "cell_type": "code",
      "execution_count": 4,
      "metadata": {
        "colab": {
          "base_uri": "https://localhost:8080/"
        },
        "id": "moo0QIuw1_0v",
        "outputId": "3318e007-5398-4d45-fc33-f8b32a7a7b08"
      },
      "outputs": [
        {
          "output_type": "stream",
          "name": "stdout",
          "text": [
            "--2023-08-29 23:35:56--  https://hgdownload.soe.ucsc.edu/goldenPath/hg19/bigZips/hg19.fa.gz\n",
            "Resolving hgdownload.soe.ucsc.edu (hgdownload.soe.ucsc.edu)... 128.114.119.163\n",
            "Connecting to hgdownload.soe.ucsc.edu (hgdownload.soe.ucsc.edu)|128.114.119.163|:443... connected.\n",
            "HTTP request sent, awaiting response... 200 OK\n",
            "Length: 948731419 (905M) [application/x-gzip]\n",
            "Saving to: ‘hg19.fa.gz’\n",
            "\n",
            "hg19.fa.gz          100%[===================>] 904.78M  40.8MB/s    in 23s     \n",
            "\n",
            "2023-08-29 23:36:20 (39.0 MB/s) - ‘hg19.fa.gz’ saved [948731419/948731419]\n",
            "\n"
          ]
        }
      ],
      "source": [
        "! wget https://hgdownload.soe.ucsc.edu/goldenPath/hg19/bigZips/hg19.fa.gz"
      ]
    },
    {
      "cell_type": "code",
      "execution_count": 5,
      "metadata": {
        "id": "Za2k0ihBZ9oh"
      },
      "outputs": [],
      "source": [
        "! gunzip hg19.fa.gz"
      ]
    },
    {
      "cell_type": "markdown",
      "metadata": {
        "id": "W-z2RJkfgvGQ"
      },
      "source": [
        "# Device check"
      ]
    },
    {
      "cell_type": "markdown",
      "metadata": {
        "id": "ZuxSAvhRA8aa"
      },
      "source": [
        "Checking available hardware"
      ]
    },
    {
      "cell_type": "code",
      "execution_count": 6,
      "metadata": {
        "colab": {
          "base_uri": "https://localhost:8080/"
        },
        "id": "VYIcJ82qgyRW",
        "outputId": "2da3f25a-c479-497c-839a-a2af2f0e61a2"
      },
      "outputs": [
        {
          "output_type": "execute_result",
          "data": {
            "text/plain": [
              "device(type='cpu')"
            ]
          },
          "metadata": {},
          "execution_count": 6
        }
      ],
      "source": [
        "device = torch.device('cuda' if torch.cuda.is_available() else 'cpu')\n",
        "device"
      ]
    },
    {
      "cell_type": "code",
      "execution_count": 7,
      "metadata": {
        "colab": {
          "base_uri": "https://localhost:8080/"
        },
        "id": "1sgdC03qg1EC",
        "outputId": "a7114943-3b55-46c5-ebc2-ca196b0c0df0"
      },
      "outputs": [
        {
          "output_type": "stream",
          "name": "stdout",
          "text": [
            "/bin/bash: line 1: nvidia-smi: command not found\n"
          ]
        }
      ],
      "source": [
        "! nvidia-smi"
      ]
    },
    {
      "cell_type": "markdown",
      "metadata": {
        "id": "_9bnWIhT2HWx"
      },
      "source": [
        "# Download model"
      ]
    },
    {
      "cell_type": "markdown",
      "metadata": {
        "id": "7U4LcZI7BEfm"
      },
      "source": [
        "Now let's download one model of the GENA model family from Huggingface that was finetuned on Enformer dataset. [Link](https://huggingface.co/AIRI-Institute) to all models."
      ]
    },
    {
      "cell_type": "code",
      "execution_count": 8,
      "metadata": {
        "colab": {
          "base_uri": "https://localhost:8080/",
          "height": 209,
          "referenced_widgets": [
            "294d5cd68bc14d08b6e2ab48e4ab70ed",
            "61fb7cce68d1441299b5038b2441f0d1",
            "530fc9df53b9491e88021ca90ab7b4e6",
            "cff114f3348342a0944d98449c70b65e",
            "35667317e96442bcbc34d36633b4a819",
            "7b1fcfbca2e9469abf9a4e205fbf47dc",
            "dcf05e1d25454d5d92d0acd57f713781",
            "13e1af8672734f04891347bec925eda8",
            "f0cf8f9102284408bb49d2ff92b44a52",
            "9257b4727650497193b6c0ec233a5572",
            "ab836f888fd6426b955376c6c858ca06",
            "e98760afb9bb464382c8cc299b349001",
            "2de12fd2a6144170b6337e37065bd1e2",
            "5c43b324e1aa4f539e85d9386788c6e9",
            "11d8a45141014c1c9432d93f72d01937",
            "3b72dc241b074721a35aebc2b75a7a33",
            "9cce7aa655a64eabb0bcc8b9fb5c8a09",
            "0028aceddf994710a0aa97ad47fb0df9",
            "dd7e891758334e68a850ab60d2a6a657",
            "973cb3577638454a80f1ea7cea2d4250",
            "088781c361f8437fa07ebec2bb64e83b",
            "2f919932509e402eb3b2abdc3c3e567a",
            "4d406c9ac5d645518315b69687b340f1",
            "53c2b60313c049218e57217f530a76d1",
            "ba129b0e042948cfb2ba0b0aacc08e88",
            "eb7141b5bbaa45c5be27551b91e2793c",
            "a6ab552cbf124de7bfb9964483b454fe",
            "36cd2098fd51470bbf1aa6a7247a62f8",
            "be08220054d34dc4b157b6e59c84e241",
            "5424e6c30f9d4bddb9f1ead5bbd52dd2",
            "0886d8cc106644ccb1d5e3a68275d1c6",
            "3b48e296d72f4717923849392abd856d",
            "f4355938b3904c658d3800e60b0ed19f",
            "6cce60c8bd4646c99e60c24520d2c9b8",
            "8fd313d665524e12a76dfb1a148baca9",
            "a8c63885d41a458d8d5b33e95d8d110f",
            "8c36dcb843964d25b72fafacd12805f1",
            "981b54c3a4c34baea055e0c9e9fa07c8",
            "df44e08fa13f47dfabdcc9b5f34f65a7",
            "ad6043ab17fd42739b419a996425b741",
            "af1ae9915df24b4dbd0640767c2ce0c2",
            "261a8b651e114f9499081b75866d1dd9",
            "b7456ce1dcd54375afdac70eac10688b",
            "2272d3913a56477384590535e8312c22",
            "59011872d8954f9096802854409bfbba",
            "1425ba307a8242ea8e43ff40b61ba7c6",
            "d5420735c48446da9ac0ee815cbc5cc2",
            "311734a5540246b39e56938413a991ea",
            "857c0166283c4f10a780e533d2957ab9",
            "5cdf9f6a6096488e9d07d8adba330b61",
            "d59c34491b1045cd8572f06cea7bd0af",
            "8ae22cc6cc994ab69fb15e17352c10a8",
            "9ba0d4c7a6c84b06849482c6ec6c5373",
            "c4f60305b3b04c9ebe8e9f1147b14197",
            "19c698fcb5004fc593d311fc60aeb37b",
            "ee86290923734e1aa82a555e983bdced",
            "6d7141c122554ec49c3dc239fe413578",
            "eb54f3105a7546ffa329ed15ee1d43ce",
            "2423c3bf10d34f8ebfc05f5ade4f278b",
            "884f5d9fcca3404f9a9a8c80b71111dc",
            "1fd95440871849da8a0c4fd608ba4c62",
            "d8817c0e28924546aa1bdf2762e0bcc4",
            "2004bfbf00634f7d9218f0d46306e611",
            "ff2b529832f24e52b2664e886a3a5d87",
            "d0d975a21dd84cb7abd57ac62830bbfd",
            "a91994387ed84a0da2d2b691875dfaa3"
          ]
        },
        "id": "EEqX6_WZ2Jc-",
        "outputId": "0cb69c1c-cbb3-4a48-fe0c-4c8ccb26ec1c"
      },
      "outputs": [
        {
          "output_type": "display_data",
          "data": {
            "text/plain": [
              "Downloading (…)okenizer_config.json:   0%|          | 0.00/46.0 [00:00<?, ?B/s]"
            ],
            "application/vnd.jupyter.widget-view+json": {
              "version_major": 2,
              "version_minor": 0,
              "model_id": "294d5cd68bc14d08b6e2ab48e4ab70ed"
            }
          },
          "metadata": {}
        },
        {
          "output_type": "display_data",
          "data": {
            "text/plain": [
              "Downloading (…)/main/tokenizer.json:   0%|          | 0.00/1.48M [00:00<?, ?B/s]"
            ],
            "application/vnd.jupyter.widget-view+json": {
              "version_major": 2,
              "version_minor": 0,
              "model_id": "e98760afb9bb464382c8cc299b349001"
            }
          },
          "metadata": {}
        },
        {
          "output_type": "display_data",
          "data": {
            "text/plain": [
              "Downloading (…)cial_tokens_map.json:   0%|          | 0.00/112 [00:00<?, ?B/s]"
            ],
            "application/vnd.jupyter.widget-view+json": {
              "version_major": 2,
              "version_minor": 0,
              "model_id": "4d406c9ac5d645518315b69687b340f1"
            }
          },
          "metadata": {}
        },
        {
          "output_type": "display_data",
          "data": {
            "text/plain": [
              "Downloading (…)enformer/config.json:   0%|          | 0.00/717 [00:00<?, ?B/s]"
            ],
            "application/vnd.jupyter.widget-view+json": {
              "version_major": 2,
              "version_minor": 0,
              "model_id": "6cce60c8bd4646c99e60c24520d2c9b8"
            }
          },
          "metadata": {}
        },
        {
          "output_type": "display_data",
          "data": {
            "text/plain": [
              "Downloading (…)mer/modeling_bert.py:   0%|          | 0.00/99.8k [00:00<?, ?B/s]"
            ],
            "application/vnd.jupyter.widget-view+json": {
              "version_major": 2,
              "version_minor": 0,
              "model_id": "59011872d8954f9096802854409bfbba"
            }
          },
          "metadata": {}
        },
        {
          "output_type": "display_data",
          "data": {
            "text/plain": [
              "Downloading pytorch_model.bin:   0%|          | 0.00/457M [00:00<?, ?B/s]"
            ],
            "application/vnd.jupyter.widget-view+json": {
              "version_major": 2,
              "version_minor": 0,
              "model_id": "ee86290923734e1aa82a555e983bdced"
            }
          },
          "metadata": {}
        }
      ],
      "source": [
        "tokenizer = AutoTokenizer.from_pretrained('AIRI-Institute/gena-lm-bert-base-t2t')\n",
        "model = AutoModel.from_pretrained('AIRI-Institute/gena-lm-bert-base-t2t', trust_remote_code=True, revision='enformer').to('cpu')"
      ]
    },
    {
      "cell_type": "code",
      "execution_count": 9,
      "metadata": {
        "colab": {
          "base_uri": "https://localhost:8080/"
        },
        "id": "Dg-dsZ9xo97y",
        "outputId": "654bc384-eacc-459f-8c6d-c1d5b9fd3a71"
      },
      "outputs": [
        {
          "output_type": "execute_result",
          "data": {
            "text/plain": [
              "BertForEnformer(\n",
              "  (bert): BertModel(\n",
              "    (embeddings): BertEmbeddings(\n",
              "      (word_embeddings): Embedding(32000, 768, padding_idx=3)\n",
              "      (position_embeddings): Embedding(512, 768)\n",
              "      (token_type_embeddings): Embedding(2, 768)\n",
              "      (LayerNorm): LayerNorm((768,), eps=1e-12, elementwise_affine=True)\n",
              "      (dropout): Dropout(p=0.1, inplace=False)\n",
              "    )\n",
              "    (encoder): BertEncoder(\n",
              "      (layer): ModuleList(\n",
              "        (0-11): 12 x BertLayer(\n",
              "          (pre_attention_ln): LayerNorm((768,), eps=1e-12, elementwise_affine=True)\n",
              "          (post_attention_ln): LayerNorm((768,), eps=1e-12, elementwise_affine=True)\n",
              "          (attention): BertAttention(\n",
              "            (self): BertSelfAttention(\n",
              "              (query): Linear(in_features=768, out_features=768, bias=True)\n",
              "              (key): Linear(in_features=768, out_features=768, bias=True)\n",
              "              (value): Linear(in_features=768, out_features=768, bias=True)\n",
              "              (dropout): Dropout(p=0.1, inplace=False)\n",
              "              (softmax): Softmax(dim=-1)\n",
              "            )\n",
              "            (output): BertSelfOutput(\n",
              "              (dense): Linear(in_features=768, out_features=768, bias=True)\n",
              "              (dropout): Dropout(p=0.1, inplace=False)\n",
              "            )\n",
              "          )\n",
              "          (intermediate): BertIntermediate(\n",
              "            (dense): Linear(in_features=768, out_features=3072, bias=True)\n",
              "            (intermediate_act_fn): GELUActivation()\n",
              "          )\n",
              "          (output): BertOutput(\n",
              "            (dense): Linear(in_features=3072, out_features=768, bias=True)\n",
              "            (dropout): Dropout(p=0.1, inplace=False)\n",
              "          )\n",
              "        )\n",
              "      )\n",
              "    )\n",
              "  )\n",
              "  (dropout): Dropout(p=0.1, inplace=False)\n",
              "  (classifier): Linear(in_features=768, out_features=5313, bias=True)\n",
              "  (activation): Softplus(beta=1, threshold=20)\n",
              ")"
            ]
          },
          "metadata": {},
          "execution_count": 9
        }
      ],
      "source": [
        "model.eval()"
      ]
    },
    {
      "cell_type": "markdown",
      "metadata": {
        "id": "ZofSbmL-2e6V"
      },
      "source": [
        "# Main part"
      ]
    },
    {
      "cell_type": "markdown",
      "metadata": {
        "id": "m7eUvbrTB4Zq"
      },
      "source": [
        "Reading and indexing .fa file of human genome"
      ]
    },
    {
      "cell_type": "code",
      "execution_count": 10,
      "metadata": {
        "id": "TduN_7ARayS6"
      },
      "outputs": [],
      "source": [
        "hg19 = pysam.FastaFile('hg19.fa')"
      ]
    },
    {
      "cell_type": "markdown",
      "metadata": {
        "id": "KfO3DW9bfsiU"
      },
      "source": [
        "# Get sequence from hg19 without mutations"
      ]
    },
    {
      "cell_type": "markdown",
      "metadata": {
        "id": "Qw3wq303Y4us"
      },
      "source": [
        "Define needed constants"
      ]
    },
    {
      "cell_type": "code",
      "execution_count": 11,
      "metadata": {
        "id": "4aPubFNCdc9H"
      },
      "outputs": [],
      "source": [
        "sp = torch.nn.Softplus() # define activation function of the last layer\n",
        "position_to_look_at = 77_748_532 # set the center of all sequences (TXNL4A)\n",
        "margin = 1430 # +- bp from the center of the sequence"
      ]
    },
    {
      "cell_type": "code",
      "execution_count": 12,
      "metadata": {
        "id": "ydFIdTdce_Ib"
      },
      "outputs": [],
      "source": [
        "# select sequence without mutations (and make sure it is in uppercase)\n",
        "seq_good = hg19.fetch('chr18', position_to_look_at - 1 - margin, position_to_look_at + margin).upper()"
      ]
    },
    {
      "cell_type": "code",
      "execution_count": 13,
      "metadata": {
        "colab": {
          "base_uri": "https://localhost:8080/",
          "height": 140
        },
        "id": "MAuezH4MZX34",
        "outputId": "47226670-0350-4d23-cc16-75ea7862ce08"
      },
      "outputs": [
        {
          "output_type": "execute_result",
          "data": {
            "text/plain": [
              "'CGCATCAGAATTCCCTGAGGGGCTTCTTTAAAAAGCCATTGCTGGACTTCACCCCATACCCATAGAATCAGAATCACAGATGCATTCTAGTAAGCACTCCAAGGGAGTCTTGTAATAACTAAAATATAACAACAGTTCCTAACTTCATGCCTCTCCTACTAAATAAGAAATAGCAAAAATTAATAAATGGCAGGCCAGATAGTCTTTCCTTTCCTGAATATAAAATATGTCCTTACATCTGTTACTCTTTACTCAAAGGAGTTATTTTAACCCAGGCCTACTTTTTAGCATCTGTGAAAGAAAAGATAGCTTCAATGTTACTTTTACTCTTCATTAAAAGGAATAACCTCTCAAATTACTTATGGAAAATTAATATGGCAAATATTTTATTAACACCCTAGTATTTGTGCCCTTTGCCCTATTGCTACAGCTGCAAAACCTCAATAAAAGTCATCCTAAAATTGCTATGAGGAACCACAGAAAAAGAATGAAATCTGGTTATAAAATAGTGTCCTACAACTTTTATTGTCAGCAAGTAAATGCCAAGACCACTCAGTGTACTAATATTAGAAATTCAGAGAACTAATTCTAACAAAGCATATTTCTATTTTCTCCTGATGTTTACTGCACCTCAATCACTGTAAGCTGTAAACCACATGACTCACAAAAAGCGTGGTGGGATAAAAAAACACACCCACAGAAAAGCAGGATTTCTCATGCTATGAACATGAAAGTCCTGCTTTATGCATACAACGAATAACTCAGGTACCAAAAAAAGACGTCCTTTTAAATTAAGGATCCGCGCTCTCAATAAAACCTGCAAGTGCATTTTGTTCACTGAACTATAAGTTTGGGAAAAACGCCTTATCAACAGAAATAATTAATTCATTTGAGAGGAGGGGGATCATAAACCCTTTAAAATATGAAAAACTACAAGAGCTCCCCGCAGAAAAAGGCGTGAAACGCCGGCACAGTCCCCGAGAGCGCTCGACCGCAGCGAGGGGAGGAATCGCCTGAACGACGGAGCCGCGGCCCCTCCTCGGGGAACAGCTCGCGCCCCCAGGCGACGCCGGCAGGGCAGAGGCGCGGGGCAGATGCGGAAGCACAGCCCGCAGAGCGGGAGAGTCCGGCGCGCTACCTTCTCGGCGATGCTGTACAGGACCTCGTCCATCTTCATGCACGTAGGATCCCAGTCGTGGCCGAAGCGGATGACGACCACGCGGTCCTCCTCCGAGAGGATGGCCTGGTCCACCTGCCAGCCGTTGTGCAGGTGCGGGAGCATGTACGACATGGCGGCCCGCGCGCTCGCCGCCGCCCAAGGCGGGGCGCCAGGGAGGGCCCAGCGAGGTGGGCTCAGCCGGCCCCTCACTCCCCGGCCCCCGCCGCCCCCGGGCCCACGGACGAAATCCGGTCCCGCCCGCACACGCAAACTCCGCTGGGACTGCCACCCGGCAGAACGTCTGGGCGCGCACGCACCGACGCCGTGCGTGCTGACGGCATGCGCGCGCGCTAGCGCCGTGCGTGCTGACGGCATGTGCGTATAGGCGCCGCGCGAACGTGTAGTTGGCCGGGTGGAGCGGCGGCGACCTGGGCACCGTGGAGCGCCGTTGGTTCCGTCATAGCAGCTGTCGGAGTGGGGGTTCCTCCCCAGCGTCCAGGCGGCCTGGTGGTCCTGAGAAGCCCCGGGCTCGCCGTGCCCTGCCCCCACGCTCCCGCCCCGAGGCCGCCCGCCGCCGCCCGGGCTGTCCTCCAGCCACGGATGGGGACGTCCAGAAAGGCCCGGAATGCCCGGCACTGCGGCTCGTTTTCTTCCTTTCTGGTGCTTGTTTCTGTGTGTTACTAAGACAGTTCATGTGTGTCATTTGTGAAACTTGATCATAAAAATGTGTCGTTGTTGCCATACCCAACCACAGCAGAGTCGAGCAGCGGGGTAGGGAGGAAGCACTGGGCAGGCCGTCCTTGAGGAATGTCACCATCAGGCCGGCTGCTGAGCTGCCTGTTGTAACCTGAAACCAGGTTTTTTAATTTGTCTTTTTATAAAGAAAAAAAATTTTTTTTTGAGACGTGCAGTGACGTGATCTTGGCCCACTGCAGCCTCCGCCTCCCGGGGTCAAGCGCTTCTCCTGCCTCCGCCTCCCCATAAGCTGGGACTACAAGGCGCCAGCCCGGCTAGTGTTTTTTTGTACTTAGTAGAGACGGGGTTTAACCATGTTGGCCAGGCTGGTCTTGAACTCCTGACCTCAAGTGATCTGCCCGCCTCGGCCTCCCAAAGCGCTGAAATTACAGGAAGAAGCCACCGCGCCCGACCTAAAGCCAGTTTTATTCCATAGCTTCAGCATAACTTCCACCTCCAGGACTGATCTGGCCCCCTGGCTTCGCTCACCAGTCAGAGCTCCCCAAACCCTTACTAGTGCCAGTGAACTTTCTCAAAGAGAAATAAGTTAATATTTCTCTTTTTAAAATAAAACCTCTAACCTCTGTTCTTCTGAGAGAGCACTTTGGGTTCATGCTGGAGACTCCCTGGTTTGCAAACTGATATTGATAGTAAAACTCTTGTCTACTATCTAGCTATCCTGGTGGTCCTTTAGATGACAAATTTAAAACAAATCACGCCCGGGCGCGGTGGCTCACGCCTGTAATCCCAGCACTTTGGGAGGCCGAGGCCGGCGGATCGCCTATGGTCGGGAGTTCAAGACCAGTCTGGCCAACATGGTGAAACCCCGTCTCTACTAAAAATACAAAAAATTACCCGGGCATGGTGGCGCCCGCCTATAATCCCAGCTACTAGGGAGGCTGAGGCAGGAGAATCGCTTGAACCCAGGGGGTGGAGGTTGCAGTGAGCTGAGATCGCACCACTTCAC'"
            ],
            "application/vnd.google.colaboratory.intrinsic+json": {
              "type": "string"
            }
          },
          "metadata": {},
          "execution_count": 13
        }
      ],
      "source": [
        "# just selected sequence\n",
        "seq_good"
      ]
    },
    {
      "cell_type": "code",
      "execution_count": 14,
      "metadata": {
        "colab": {
          "base_uri": "https://localhost:8080/"
        },
        "id": "1Uy1baipZBac",
        "outputId": "9ee9cf95-8655-4ee5-d83a-e83c82cb11c1"
      },
      "outputs": [
        {
          "output_type": "execute_result",
          "data": {
            "text/plain": [
              "2861"
            ]
          },
          "metadata": {},
          "execution_count": 14
        }
      ],
      "source": [
        "# check its length\n",
        "len(seq_good)"
      ]
    },
    {
      "cell_type": "markdown",
      "metadata": {
        "id": "Ua8CPsXGZh0T"
      },
      "source": [
        "Make selected sequence to be reverse complemented"
      ]
    },
    {
      "cell_type": "code",
      "execution_count": 15,
      "metadata": {
        "id": "w82XLyrSfmZ5"
      },
      "outputs": [],
      "source": [
        "seq_good = Seq(seq_good)\n",
        "seq_good = str(seq_good.reverse_complement())"
      ]
    },
    {
      "cell_type": "code",
      "execution_count": 16,
      "metadata": {
        "colab": {
          "base_uri": "https://localhost:8080/",
          "height": 140
        },
        "id": "fDni4Ll-Zt_i",
        "outputId": "752eb09c-2406-45cf-a841-1aebc6816845"
      },
      "outputs": [
        {
          "output_type": "execute_result",
          "data": {
            "text/plain": [
              "'GTGAAGTGGTGCGATCTCAGCTCACTGCAACCTCCACCCCCTGGGTTCAAGCGATTCTCCTGCCTCAGCCTCCCTAGTAGCTGGGATTATAGGCGGGCGCCACCATGCCCGGGTAATTTTTTGTATTTTTAGTAGAGACGGGGTTTCACCATGTTGGCCAGACTGGTCTTGAACTCCCGACCATAGGCGATCCGCCGGCCTCGGCCTCCCAAAGTGCTGGGATTACAGGCGTGAGCCACCGCGCCCGGGCGTGATTTGTTTTAAATTTGTCATCTAAAGGACCACCAGGATAGCTAGATAGTAGACAAGAGTTTTACTATCAATATCAGTTTGCAAACCAGGGAGTCTCCAGCATGAACCCAAAGTGCTCTCTCAGAAGAACAGAGGTTAGAGGTTTTATTTTAAAAAGAGAAATATTAACTTATTTCTCTTTGAGAAAGTTCACTGGCACTAGTAAGGGTTTGGGGAGCTCTGACTGGTGAGCGAAGCCAGGGGGCCAGATCAGTCCTGGAGGTGGAAGTTATGCTGAAGCTATGGAATAAAACTGGCTTTAGGTCGGGCGCGGTGGCTTCTTCCTGTAATTTCAGCGCTTTGGGAGGCCGAGGCGGGCAGATCACTTGAGGTCAGGAGTTCAAGACCAGCCTGGCCAACATGGTTAAACCCCGTCTCTACTAAGTACAAAAAAACACTAGCCGGGCTGGCGCCTTGTAGTCCCAGCTTATGGGGAGGCGGAGGCAGGAGAAGCGCTTGACCCCGGGAGGCGGAGGCTGCAGTGGGCCAAGATCACGTCACTGCACGTCTCAAAAAAAAATTTTTTTTCTTTATAAAAAGACAAATTAAAAAACCTGGTTTCAGGTTACAACAGGCAGCTCAGCAGCCGGCCTGATGGTGACATTCCTCAAGGACGGCCTGCCCAGTGCTTCCTCCCTACCCCGCTGCTCGACTCTGCTGTGGTTGGGTATGGCAACAACGACACATTTTTATGATCAAGTTTCACAAATGACACACATGAACTGTCTTAGTAACACACAGAAACAAGCACCAGAAAGGAAGAAAACGAGCCGCAGTGCCGGGCATTCCGGGCCTTTCTGGACGTCCCCATCCGTGGCTGGAGGACAGCCCGGGCGGCGGCGGGCGGCCTCGGGGCGGGAGCGTGGGGGCAGGGCACGGCGAGCCCGGGGCTTCTCAGGACCACCAGGCCGCCTGGACGCTGGGGAGGAACCCCCACTCCGACAGCTGCTATGACGGAACCAACGGCGCTCCACGGTGCCCAGGTCGCCGCCGCTCCACCCGGCCAACTACACGTTCGCGCGGCGCCTATACGCACATGCCGTCAGCACGCACGGCGCTAGCGCGCGCGCATGCCGTCAGCACGCACGGCGTCGGTGCGTGCGCGCCCAGACGTTCTGCCGGGTGGCAGTCCCAGCGGAGTTTGCGTGTGCGGGCGGGACCGGATTTCGTCCGTGGGCCCGGGGGCGGCGGGGGCCGGGGAGTGAGGGGCCGGCTGAGCCCACCTCGCTGGGCCCTCCCTGGCGCCCCGCCTTGGGCGGCGGCGAGCGCGCGGGCCGCCATGTCGTACATGCTCCCGCACCTGCACAACGGCTGGCAGGTGGACCAGGCCATCCTCTCGGAGGAGGACCGCGTGGTCGTCATCCGCTTCGGCCACGACTGGGATCCTACGTGCATGAAGATGGACGAGGTCCTGTACAGCATCGCCGAGAAGGTAGCGCGCCGGACTCTCCCGCTCTGCGGGCTGTGCTTCCGCATCTGCCCCGCGCCTCTGCCCTGCCGGCGTCGCCTGGGGGCGCGAGCTGTTCCCCGAGGAGGGGCCGCGGCTCCGTCGTTCAGGCGATTCCTCCCCTCGCTGCGGTCGAGCGCTCTCGGGGACTGTGCCGGCGTTTCACGCCTTTTTCTGCGGGGAGCTCTTGTAGTTTTTCATATTTTAAAGGGTTTATGATCCCCCTCCTCTCAAATGAATTAATTATTTCTGTTGATAAGGCGTTTTTCCCAAACTTATAGTTCAGTGAACAAAATGCACTTGCAGGTTTTATTGAGAGCGCGGATCCTTAATTTAAAAGGACGTCTTTTTTTGGTACCTGAGTTATTCGTTGTATGCATAAAGCAGGACTTTCATGTTCATAGCATGAGAAATCCTGCTTTTCTGTGGGTGTGTTTTTTTATCCCACCACGCTTTTTGTGAGTCATGTGGTTTACAGCTTACAGTGATTGAGGTGCAGTAAACATCAGGAGAAAATAGAAATATGCTTTGTTAGAATTAGTTCTCTGAATTTCTAATATTAGTACACTGAGTGGTCTTGGCATTTACTTGCTGACAATAAAAGTTGTAGGACACTATTTTATAACCAGATTTCATTCTTTTTCTGTGGTTCCTCATAGCAATTTTAGGATGACTTTTATTGAGGTTTTGCAGCTGTAGCAATAGGGCAAAGGGCACAAATACTAGGGTGTTAATAAAATATTTGCCATATTAATTTTCCATAAGTAATTTGAGAGGTTATTCCTTTTAATGAAGAGTAAAAGTAACATTGAAGCTATCTTTTCTTTCACAGATGCTAAAAAGTAGGCCTGGGTTAAAATAACTCCTTTGAGTAAAGAGTAACAGATGTAAGGACATATTTTATATTCAGGAAAGGAAAGACTATCTGGCCTGCCATTTATTAATTTTTGCTATTTCTTATTTAGTAGGAGAGGCATGAAGTTAGGAACTGTTGTTATATTTTAGTTATTACAAGACTCCCTTGGAGTGCTTACTAGAATGCATCTGTGATTCTGATTCTATGGGTATGGGGTGAAGTCCAGCAATGGCTTTTTAAAGAAGCCCCTCAGGGAATTCTGATGCG'"
            ],
            "application/vnd.google.colaboratory.intrinsic+json": {
              "type": "string"
            }
          },
          "metadata": {},
          "execution_count": 16
        }
      ],
      "source": [
        "# look at the reverse complemented sequence\n",
        "seq_good"
      ]
    },
    {
      "cell_type": "markdown",
      "metadata": {
        "id": "YI0swz0lZ82S"
      },
      "source": [
        "Tokenize selected sequence and split it in bins"
      ]
    },
    {
      "cell_type": "code",
      "execution_count": 17,
      "metadata": {
        "id": "u0KGQI6ogAAN"
      },
      "outputs": [],
      "source": [
        "counter = 0\n",
        "all_token_ids_good = [tokenizer.cls_token_id] # make sure the fires token is CLC token\n",
        "while 1:\n",
        "    the_bin = seq_good[counter:counter+128] # of bins have the length of 128 bp\n",
        "    if len(the_bin) == 0:\n",
        "        break\n",
        "    else:\n",
        "        all_token_ids_good += tokenizer(the_bin, add_special_tokens=False, return_attention_mask=False, return_token_type_ids=False)['input_ids'] + [tokenizer.sep_token_id] # make sure to set SEP token after every bin\n",
        "        counter += 128"
      ]
    },
    {
      "cell_type": "code",
      "execution_count": 18,
      "metadata": {
        "colab": {
          "base_uri": "https://localhost:8080/"
        },
        "id": "z2ld4uRmgQKE",
        "outputId": "ac49280c-0395-4bdf-e098-e38b86175c5b"
      },
      "outputs": [
        {
          "output_type": "execute_result",
          "data": {
            "text/plain": [
              "tensor([    1,   193,   652,   317, 12086, 24159,    48, 20992,  3112,    93,\n",
              "         4235,  3535,  3504,    89,  2515,    15,     2,   119,  5576,  3729,\n",
              "         1578,  5402,   561,    32, 16807,  9994,   185,  7679,  6165,   200,\n",
              "          193,    26,     2,   282,   121,   105,   674, 31155, 12515,    44,\n",
              "         3021,   269,   306,  1210,   534,  1257,   214,    51,  2024,   712,\n",
              "          235,   441, 17867,   486,    21,     2,    34,  5315,   893,   181,\n",
              "          321,  6840,  7457,  4385,   222,   945,   359,  1069,  1219,  1743,\n",
              "          286,  3465,   169,  6477,   233, 12432,     6,     2,    25,   436,\n",
              "          734,   404,   224,  3003,    75,   605,  2640,  7379,  1002, 12266,\n",
              "        25312, 13755, 12121,   403, 15542,     2,   101,  1558,    81, 16942,\n",
              "         5496,   721,   364,   256,   200, 10847,   730,  1431,   187,  3532,\n",
              "         2092,   294,  4967,   152,  3532,    58,     2,    40,  5307,   966,\n",
              "          120,   427, 11101,   131,   331,  8490,  4177,  3862,    94,  1630,\n",
              "           34,  2777,  2277, 21660,   185,   617, 12789,     2,    22,   807,\n",
              "         3053,   218,   189,  3605,   686,  1049,   148,  2335,   211,   182,\n",
              "          701, 22030,    55,  5142,   724,    52,  1525,    55,  4394, 17422,\n",
              "          758,     2,    55,   494,   990,  2634,   325,  1341,  1983,   619,\n",
              "          200,   108,   527,  1756, 28744,  1071,    75,   779,  1501,   200,\n",
              "         2530,   200,   185,  7423,    89,    21,     2,  4097, 28799, 10545,\n",
              "          202,   700, 21150,   470,   130,  7281,   319,   142,  1979,    46,\n",
              "         3758,   219,  4319,   313,  3254,    88,  1601,   313,   218,   373,\n",
              "          101,     2,   101,  1601,  6430,   885, 12133,   836,  5432, 13317,\n",
              "         1476,     9,  2872,    29,  1125,    29,    93, 12924,  3440,  2872,\n",
              "           29, 10545,   424,  8543,  2587,   857, 11202,     2,   101,  9965,\n",
              "          646,  1044,  1257,  4441, 16002,  1456,  1719,   324,  1573,  1436,\n",
              "         3142,   527,   138,    87,  1386,    88,  1300,  8845,  1573,    64,\n",
              "         2328,     2,  4493,   498,    88,   921, 17593,   527,  4029,   148,\n",
              "         2933,  2432,   580,   251, 11283,   442,  5442,    70,  3622,   345,\n",
              "         5162,  8700,   799,  5350,   185,     2,   120,   860,    70, 21716,\n",
              "          505, 14280,   940,   275,   598,  1240,   301,    93,  1884, 24188,\n",
              "         2432,   208,   200,   213,  3619, 29591,  1884,  1144,  3747,     2,\n",
              "         4097,  1041,  1230,   304,   591,  6992,  1132,   101,  2182,   324,\n",
              "        30375,   852,   108,   144,   341,  1102,   148,   709,    61,   138,\n",
              "         3156,   921,    52,  1031,  8715,   138,     2,  9726,    44,   537,\n",
              "         5554,    51,   369,  1913,  1582,   124,   475,   110,  1956,    54,\n",
              "          921,  3462,    67,   937,  1821,   793,   398,  5226,  1538,     2,\n",
              "          176,   186,   991,    70,  5391, 13454,   290,   155, 26244,  9388,\n",
              "        14732,  3078, 21645,   531,   196,  1493,  2603,   100,   548,  2536,\n",
              "            2,  4790,  4797,  3850,    98,   508,   151,  3633,  8425,   552,\n",
              "          198,   264,   164,  1193,  3642,    65,   493,   119,   141,  3294,\n",
              "          985,   287,     2,  1145,    41,  1894,   386,  8803,   128,   971,\n",
              "           96, 11900,  6182,  1237,  1990,  1862,    63,  2919,   263, 19803,\n",
              "         3882, 20366,    35,     2,   850, 11228,  1401,  3977,   291,   769,\n",
              "         3586,    69,    97,  2652,   162,  1929,   190,  1317,    39,  2058,\n",
              "          198,  2786,  8265,    83,  1538,     2,   339,  4954,  1556,   676,\n",
              "           48, 20335,  2513,   198,  8310,   175,   288,  1344,  3242,  3348,\n",
              "           74,  1210, 19692,   449,   263,    20,     2,     8,    47,  1282,\n",
              "         7232,   413,   505, 11597,   242,   782, 10231,   269,   871,    60,\n",
              "          189,  3834,   212,  1591,    57,   477,   792,  2627,   205,    15,\n",
              "            2,    22, 20454,   490, 14136,   733,  1882,  1094,     2])"
            ]
          },
          "metadata": {},
          "execution_count": 18
        }
      ],
      "source": [
        "# here is the tokenized sequence\n",
        "torch.tensor(all_token_ids_good)"
      ]
    },
    {
      "cell_type": "code",
      "execution_count": 19,
      "metadata": {
        "colab": {
          "base_uri": "https://localhost:8080/"
        },
        "id": "5zbcjFBOgZuB",
        "outputId": "ae834a09-1ed4-4520-8259-e5e2c9061c17"
      },
      "outputs": [
        {
          "output_type": "execute_result",
          "data": {
            "text/plain": [
              "499"
            ]
          },
          "metadata": {},
          "execution_count": 19
        }
      ],
      "source": [
        "len(all_token_ids_good) # here is the amount of tokens we've got"
      ]
    },
    {
      "cell_type": "markdown",
      "metadata": {
        "id": "bIPeTx21aytv"
      },
      "source": [
        "Make tokens to be suitable to GENA's input shape. 'input_ids', 'token_type_ids' and 'attention_mask' are default parameters for Transformer models from Huggingface. The only difference is that we pass 'bins_mask' to get output only from SEP tokens that are the ends of bins."
      ]
    },
    {
      "cell_type": "code",
      "execution_count": 20,
      "metadata": {
        "colab": {
          "base_uri": "https://localhost:8080/"
        },
        "id": "UU6CiDU2genY",
        "outputId": "a3620d9a-fad3-4589-ea43-fa05c14dbea2"
      },
      "outputs": [
        {
          "output_type": "stream",
          "name": "stderr",
          "text": [
            "<ipython-input-20-860ac5930e12>:11: UserWarning: Creating a tensor from a list of numpy.ndarrays is extremely slow. Please consider converting the list to a single numpy.ndarray with numpy.array() before converting to a tensor. (Triggered internally at ../torch/csrc/utils/tensor_new.cpp:245.)\n",
            "  tokenized_seq_good['input_ids'] = torch.tensor([tokenized_seq_good['input_ids']]).to(device)\n",
            "<ipython-input-20-860ac5930e12>:14: DeprecationWarning: In future, it will be an error for 'np.bool_' scalars to be interpreted as an index\n",
            "  tokenized_seq_good['bins_mask'] = torch.tensor([tokenized_seq_good['bins_mask']]).to(device)\n"
          ]
        }
      ],
      "source": [
        "all_token_ids_good = np.array(all_token_ids_good)\n",
        "token_type_ids = np.array([0] * len(all_token_ids_good))\n",
        "attention_mask = np.array([1] * len(all_token_ids_good))\n",
        "bins_mask = (all_token_ids_good == tokenizer.sep_token_id).astype(bool)\n",
        "\n",
        "tokenized_seq_good = {'input_ids': all_token_ids_good,\n",
        "                'token_type_ids': token_type_ids,\n",
        "                'attention_mask': attention_mask,\n",
        "                'bins_mask': bins_mask}\n",
        "\n",
        "tokenized_seq_good['input_ids'] = torch.tensor([tokenized_seq_good['input_ids']]).to(device)\n",
        "tokenized_seq_good['token_type_ids'] = torch.tensor([tokenized_seq_good['token_type_ids']]).to(device)\n",
        "tokenized_seq_good['attention_mask'] = torch.tensor([tokenized_seq_good['attention_mask']]).to(device)\n",
        "tokenized_seq_good['bins_mask'] = torch.tensor([tokenized_seq_good['bins_mask']]).to(device)"
      ]
    },
    {
      "cell_type": "code",
      "execution_count": 21,
      "metadata": {
        "colab": {
          "base_uri": "https://localhost:8080/"
        },
        "id": "oi2K5xUxhGFj",
        "outputId": "3f474066-754b-4df9-935b-9a9424c91e65"
      },
      "outputs": [
        {
          "output_type": "execute_result",
          "data": {
            "text/plain": [
              "{'input_ids': tensor([[    1,   193,   652,   317, 12086, 24159,    48, 20992,  3112,    93,\n",
              "           4235,  3535,  3504,    89,  2515,    15,     2,   119,  5576,  3729,\n",
              "           1578,  5402,   561,    32, 16807,  9994,   185,  7679,  6165,   200,\n",
              "            193,    26,     2,   282,   121,   105,   674, 31155, 12515,    44,\n",
              "           3021,   269,   306,  1210,   534,  1257,   214,    51,  2024,   712,\n",
              "            235,   441, 17867,   486,    21,     2,    34,  5315,   893,   181,\n",
              "            321,  6840,  7457,  4385,   222,   945,   359,  1069,  1219,  1743,\n",
              "            286,  3465,   169,  6477,   233, 12432,     6,     2,    25,   436,\n",
              "            734,   404,   224,  3003,    75,   605,  2640,  7379,  1002, 12266,\n",
              "          25312, 13755, 12121,   403, 15542,     2,   101,  1558,    81, 16942,\n",
              "           5496,   721,   364,   256,   200, 10847,   730,  1431,   187,  3532,\n",
              "           2092,   294,  4967,   152,  3532,    58,     2,    40,  5307,   966,\n",
              "            120,   427, 11101,   131,   331,  8490,  4177,  3862,    94,  1630,\n",
              "             34,  2777,  2277, 21660,   185,   617, 12789,     2,    22,   807,\n",
              "           3053,   218,   189,  3605,   686,  1049,   148,  2335,   211,   182,\n",
              "            701, 22030,    55,  5142,   724,    52,  1525,    55,  4394, 17422,\n",
              "            758,     2,    55,   494,   990,  2634,   325,  1341,  1983,   619,\n",
              "            200,   108,   527,  1756, 28744,  1071,    75,   779,  1501,   200,\n",
              "           2530,   200,   185,  7423,    89,    21,     2,  4097, 28799, 10545,\n",
              "            202,   700, 21150,   470,   130,  7281,   319,   142,  1979,    46,\n",
              "           3758,   219,  4319,   313,  3254,    88,  1601,   313,   218,   373,\n",
              "            101,     2,   101,  1601,  6430,   885, 12133,   836,  5432, 13317,\n",
              "           1476,     9,  2872,    29,  1125,    29,    93, 12924,  3440,  2872,\n",
              "             29, 10545,   424,  8543,  2587,   857, 11202,     2,   101,  9965,\n",
              "            646,  1044,  1257,  4441, 16002,  1456,  1719,   324,  1573,  1436,\n",
              "           3142,   527,   138,    87,  1386,    88,  1300,  8845,  1573,    64,\n",
              "           2328,     2,  4493,   498,    88,   921, 17593,   527,  4029,   148,\n",
              "           2933,  2432,   580,   251, 11283,   442,  5442,    70,  3622,   345,\n",
              "           5162,  8700,   799,  5350,   185,     2,   120,   860,    70, 21716,\n",
              "            505, 14280,   940,   275,   598,  1240,   301,    93,  1884, 24188,\n",
              "           2432,   208,   200,   213,  3619, 29591,  1884,  1144,  3747,     2,\n",
              "           4097,  1041,  1230,   304,   591,  6992,  1132,   101,  2182,   324,\n",
              "          30375,   852,   108,   144,   341,  1102,   148,   709,    61,   138,\n",
              "           3156,   921,    52,  1031,  8715,   138,     2,  9726,    44,   537,\n",
              "           5554,    51,   369,  1913,  1582,   124,   475,   110,  1956,    54,\n",
              "            921,  3462,    67,   937,  1821,   793,   398,  5226,  1538,     2,\n",
              "            176,   186,   991,    70,  5391, 13454,   290,   155, 26244,  9388,\n",
              "          14732,  3078, 21645,   531,   196,  1493,  2603,   100,   548,  2536,\n",
              "              2,  4790,  4797,  3850,    98,   508,   151,  3633,  8425,   552,\n",
              "            198,   264,   164,  1193,  3642,    65,   493,   119,   141,  3294,\n",
              "            985,   287,     2,  1145,    41,  1894,   386,  8803,   128,   971,\n",
              "             96, 11900,  6182,  1237,  1990,  1862,    63,  2919,   263, 19803,\n",
              "           3882, 20366,    35,     2,   850, 11228,  1401,  3977,   291,   769,\n",
              "           3586,    69,    97,  2652,   162,  1929,   190,  1317,    39,  2058,\n",
              "            198,  2786,  8265,    83,  1538,     2,   339,  4954,  1556,   676,\n",
              "             48, 20335,  2513,   198,  8310,   175,   288,  1344,  3242,  3348,\n",
              "             74,  1210, 19692,   449,   263,    20,     2,     8,    47,  1282,\n",
              "           7232,   413,   505, 11597,   242,   782, 10231,   269,   871,    60,\n",
              "            189,  3834,   212,  1591,    57,   477,   792,  2627,   205,    15,\n",
              "              2,    22, 20454,   490, 14136,   733,  1882,  1094,     2]]),\n",
              " 'token_type_ids': tensor([[0, 0, 0, 0, 0, 0, 0, 0, 0, 0, 0, 0, 0, 0, 0, 0, 0, 0, 0, 0, 0, 0, 0, 0,\n",
              "          0, 0, 0, 0, 0, 0, 0, 0, 0, 0, 0, 0, 0, 0, 0, 0, 0, 0, 0, 0, 0, 0, 0, 0,\n",
              "          0, 0, 0, 0, 0, 0, 0, 0, 0, 0, 0, 0, 0, 0, 0, 0, 0, 0, 0, 0, 0, 0, 0, 0,\n",
              "          0, 0, 0, 0, 0, 0, 0, 0, 0, 0, 0, 0, 0, 0, 0, 0, 0, 0, 0, 0, 0, 0, 0, 0,\n",
              "          0, 0, 0, 0, 0, 0, 0, 0, 0, 0, 0, 0, 0, 0, 0, 0, 0, 0, 0, 0, 0, 0, 0, 0,\n",
              "          0, 0, 0, 0, 0, 0, 0, 0, 0, 0, 0, 0, 0, 0, 0, 0, 0, 0, 0, 0, 0, 0, 0, 0,\n",
              "          0, 0, 0, 0, 0, 0, 0, 0, 0, 0, 0, 0, 0, 0, 0, 0, 0, 0, 0, 0, 0, 0, 0, 0,\n",
              "          0, 0, 0, 0, 0, 0, 0, 0, 0, 0, 0, 0, 0, 0, 0, 0, 0, 0, 0, 0, 0, 0, 0, 0,\n",
              "          0, 0, 0, 0, 0, 0, 0, 0, 0, 0, 0, 0, 0, 0, 0, 0, 0, 0, 0, 0, 0, 0, 0, 0,\n",
              "          0, 0, 0, 0, 0, 0, 0, 0, 0, 0, 0, 0, 0, 0, 0, 0, 0, 0, 0, 0, 0, 0, 0, 0,\n",
              "          0, 0, 0, 0, 0, 0, 0, 0, 0, 0, 0, 0, 0, 0, 0, 0, 0, 0, 0, 0, 0, 0, 0, 0,\n",
              "          0, 0, 0, 0, 0, 0, 0, 0, 0, 0, 0, 0, 0, 0, 0, 0, 0, 0, 0, 0, 0, 0, 0, 0,\n",
              "          0, 0, 0, 0, 0, 0, 0, 0, 0, 0, 0, 0, 0, 0, 0, 0, 0, 0, 0, 0, 0, 0, 0, 0,\n",
              "          0, 0, 0, 0, 0, 0, 0, 0, 0, 0, 0, 0, 0, 0, 0, 0, 0, 0, 0, 0, 0, 0, 0, 0,\n",
              "          0, 0, 0, 0, 0, 0, 0, 0, 0, 0, 0, 0, 0, 0, 0, 0, 0, 0, 0, 0, 0, 0, 0, 0,\n",
              "          0, 0, 0, 0, 0, 0, 0, 0, 0, 0, 0, 0, 0, 0, 0, 0, 0, 0, 0, 0, 0, 0, 0, 0,\n",
              "          0, 0, 0, 0, 0, 0, 0, 0, 0, 0, 0, 0, 0, 0, 0, 0, 0, 0, 0, 0, 0, 0, 0, 0,\n",
              "          0, 0, 0, 0, 0, 0, 0, 0, 0, 0, 0, 0, 0, 0, 0, 0, 0, 0, 0, 0, 0, 0, 0, 0,\n",
              "          0, 0, 0, 0, 0, 0, 0, 0, 0, 0, 0, 0, 0, 0, 0, 0, 0, 0, 0, 0, 0, 0, 0, 0,\n",
              "          0, 0, 0, 0, 0, 0, 0, 0, 0, 0, 0, 0, 0, 0, 0, 0, 0, 0, 0, 0, 0, 0, 0, 0,\n",
              "          0, 0, 0, 0, 0, 0, 0, 0, 0, 0, 0, 0, 0, 0, 0, 0, 0, 0, 0]]),\n",
              " 'attention_mask': tensor([[1, 1, 1, 1, 1, 1, 1, 1, 1, 1, 1, 1, 1, 1, 1, 1, 1, 1, 1, 1, 1, 1, 1, 1,\n",
              "          1, 1, 1, 1, 1, 1, 1, 1, 1, 1, 1, 1, 1, 1, 1, 1, 1, 1, 1, 1, 1, 1, 1, 1,\n",
              "          1, 1, 1, 1, 1, 1, 1, 1, 1, 1, 1, 1, 1, 1, 1, 1, 1, 1, 1, 1, 1, 1, 1, 1,\n",
              "          1, 1, 1, 1, 1, 1, 1, 1, 1, 1, 1, 1, 1, 1, 1, 1, 1, 1, 1, 1, 1, 1, 1, 1,\n",
              "          1, 1, 1, 1, 1, 1, 1, 1, 1, 1, 1, 1, 1, 1, 1, 1, 1, 1, 1, 1, 1, 1, 1, 1,\n",
              "          1, 1, 1, 1, 1, 1, 1, 1, 1, 1, 1, 1, 1, 1, 1, 1, 1, 1, 1, 1, 1, 1, 1, 1,\n",
              "          1, 1, 1, 1, 1, 1, 1, 1, 1, 1, 1, 1, 1, 1, 1, 1, 1, 1, 1, 1, 1, 1, 1, 1,\n",
              "          1, 1, 1, 1, 1, 1, 1, 1, 1, 1, 1, 1, 1, 1, 1, 1, 1, 1, 1, 1, 1, 1, 1, 1,\n",
              "          1, 1, 1, 1, 1, 1, 1, 1, 1, 1, 1, 1, 1, 1, 1, 1, 1, 1, 1, 1, 1, 1, 1, 1,\n",
              "          1, 1, 1, 1, 1, 1, 1, 1, 1, 1, 1, 1, 1, 1, 1, 1, 1, 1, 1, 1, 1, 1, 1, 1,\n",
              "          1, 1, 1, 1, 1, 1, 1, 1, 1, 1, 1, 1, 1, 1, 1, 1, 1, 1, 1, 1, 1, 1, 1, 1,\n",
              "          1, 1, 1, 1, 1, 1, 1, 1, 1, 1, 1, 1, 1, 1, 1, 1, 1, 1, 1, 1, 1, 1, 1, 1,\n",
              "          1, 1, 1, 1, 1, 1, 1, 1, 1, 1, 1, 1, 1, 1, 1, 1, 1, 1, 1, 1, 1, 1, 1, 1,\n",
              "          1, 1, 1, 1, 1, 1, 1, 1, 1, 1, 1, 1, 1, 1, 1, 1, 1, 1, 1, 1, 1, 1, 1, 1,\n",
              "          1, 1, 1, 1, 1, 1, 1, 1, 1, 1, 1, 1, 1, 1, 1, 1, 1, 1, 1, 1, 1, 1, 1, 1,\n",
              "          1, 1, 1, 1, 1, 1, 1, 1, 1, 1, 1, 1, 1, 1, 1, 1, 1, 1, 1, 1, 1, 1, 1, 1,\n",
              "          1, 1, 1, 1, 1, 1, 1, 1, 1, 1, 1, 1, 1, 1, 1, 1, 1, 1, 1, 1, 1, 1, 1, 1,\n",
              "          1, 1, 1, 1, 1, 1, 1, 1, 1, 1, 1, 1, 1, 1, 1, 1, 1, 1, 1, 1, 1, 1, 1, 1,\n",
              "          1, 1, 1, 1, 1, 1, 1, 1, 1, 1, 1, 1, 1, 1, 1, 1, 1, 1, 1, 1, 1, 1, 1, 1,\n",
              "          1, 1, 1, 1, 1, 1, 1, 1, 1, 1, 1, 1, 1, 1, 1, 1, 1, 1, 1, 1, 1, 1, 1, 1,\n",
              "          1, 1, 1, 1, 1, 1, 1, 1, 1, 1, 1, 1, 1, 1, 1, 1, 1, 1, 1]]),\n",
              " 'bins_mask': tensor([[False, False, False, False, False, False, False, False, False, False,\n",
              "          False, False, False, False, False, False,  True, False, False, False,\n",
              "          False, False, False, False, False, False, False, False, False, False,\n",
              "          False, False,  True, False, False, False, False, False, False, False,\n",
              "          False, False, False, False, False, False, False, False, False, False,\n",
              "          False, False, False, False, False,  True, False, False, False, False,\n",
              "          False, False, False, False, False, False, False, False, False, False,\n",
              "          False, False, False, False, False, False, False,  True, False, False,\n",
              "          False, False, False, False, False, False, False, False, False, False,\n",
              "          False, False, False, False, False,  True, False, False, False, False,\n",
              "          False, False, False, False, False, False, False, False, False, False,\n",
              "          False, False, False, False, False, False,  True, False, False, False,\n",
              "          False, False, False, False, False, False, False, False, False, False,\n",
              "          False, False, False, False, False, False, False,  True, False, False,\n",
              "          False, False, False, False, False, False, False, False, False, False,\n",
              "          False, False, False, False, False, False, False, False, False, False,\n",
              "          False,  True, False, False, False, False, False, False, False, False,\n",
              "          False, False, False, False, False, False, False, False, False, False,\n",
              "          False, False, False, False, False, False,  True, False, False, False,\n",
              "          False, False, False, False, False, False, False, False, False, False,\n",
              "          False, False, False, False, False, False, False, False, False, False,\n",
              "          False,  True, False, False, False, False, False, False, False, False,\n",
              "          False, False, False, False, False, False, False, False, False, False,\n",
              "          False, False, False, False, False, False, False,  True, False, False,\n",
              "          False, False, False, False, False, False, False, False, False, False,\n",
              "          False, False, False, False, False, False, False, False, False, False,\n",
              "          False,  True, False, False, False, False, False, False, False, False,\n",
              "          False, False, False, False, False, False, False, False, False, False,\n",
              "          False, False, False, False, False,  True, False, False, False, False,\n",
              "          False, False, False, False, False, False, False, False, False, False,\n",
              "          False, False, False, False, False, False, False, False, False,  True,\n",
              "          False, False, False, False, False, False, False, False, False, False,\n",
              "          False, False, False, False, False, False, False, False, False, False,\n",
              "          False, False, False, False, False, False,  True, False, False, False,\n",
              "          False, False, False, False, False, False, False, False, False, False,\n",
              "          False, False, False, False, False, False, False, False, False,  True,\n",
              "          False, False, False, False, False, False, False, False, False, False,\n",
              "          False, False, False, False, False, False, False, False, False, False,\n",
              "           True, False, False, False, False, False, False, False, False, False,\n",
              "          False, False, False, False, False, False, False, False, False, False,\n",
              "          False, False,  True, False, False, False, False, False, False, False,\n",
              "          False, False, False, False, False, False, False, False, False, False,\n",
              "          False, False, False,  True, False, False, False, False, False, False,\n",
              "          False, False, False, False, False, False, False, False, False, False,\n",
              "          False, False, False, False, False,  True, False, False, False, False,\n",
              "          False, False, False, False, False, False, False, False, False, False,\n",
              "          False, False, False, False, False, False,  True, False, False, False,\n",
              "          False, False, False, False, False, False, False, False, False, False,\n",
              "          False, False, False, False, False, False, False, False, False, False,\n",
              "           True, False, False, False, False, False, False, False,  True]])}"
            ]
          },
          "metadata": {},
          "execution_count": 21
        }
      ],
      "source": [
        "# here is the full input that is passed into the model\n",
        "tokenized_seq_good"
      ]
    },
    {
      "cell_type": "markdown",
      "metadata": {
        "id": "wRTyw1ISf9Mg"
      },
      "source": [
        "# Get sequences with mutations"
      ]
    },
    {
      "cell_type": "markdown",
      "metadata": {
        "id": "IEZIaMrxm5IW"
      },
      "source": [
        "Loading substitutions"
      ]
    },
    {
      "cell_type": "code",
      "execution_count": 190,
      "metadata": {
        "colab": {
          "base_uri": "https://localhost:8080/",
          "height": 111
        },
        "id": "KSh_HYt5cngV",
        "outputId": "7b496b60-61d2-432e-e1b2-57e1f8f56461"
      },
      "outputs": [
        {
          "output_type": "execute_result",
          "data": {
            "text/plain": [
              "   Unnamed: 0       pos ref alt\n",
              "0           1  77748624   T   C\n",
              "1           2  77747596   C   -"
            ],
            "text/html": [
              "\n",
              "  <div id=\"df-064c3644-9c0f-4b44-be81-4887cceea80f\" class=\"colab-df-container\">\n",
              "    <div>\n",
              "<style scoped>\n",
              "    .dataframe tbody tr th:only-of-type {\n",
              "        vertical-align: middle;\n",
              "    }\n",
              "\n",
              "    .dataframe tbody tr th {\n",
              "        vertical-align: top;\n",
              "    }\n",
              "\n",
              "    .dataframe thead th {\n",
              "        text-align: right;\n",
              "    }\n",
              "</style>\n",
              "<table border=\"1\" class=\"dataframe\">\n",
              "  <thead>\n",
              "    <tr style=\"text-align: right;\">\n",
              "      <th></th>\n",
              "      <th>Unnamed: 0</th>\n",
              "      <th>pos</th>\n",
              "      <th>ref</th>\n",
              "      <th>alt</th>\n",
              "    </tr>\n",
              "  </thead>\n",
              "  <tbody>\n",
              "    <tr>\n",
              "      <th>0</th>\n",
              "      <td>1</td>\n",
              "      <td>77748624</td>\n",
              "      <td>T</td>\n",
              "      <td>C</td>\n",
              "    </tr>\n",
              "    <tr>\n",
              "      <th>1</th>\n",
              "      <td>2</td>\n",
              "      <td>77747596</td>\n",
              "      <td>C</td>\n",
              "      <td>-</td>\n",
              "    </tr>\n",
              "  </tbody>\n",
              "</table>\n",
              "</div>\n",
              "    <div class=\"colab-df-buttons\">\n",
              "\n",
              "  <div class=\"colab-df-container\">\n",
              "    <button class=\"colab-df-convert\" onclick=\"convertToInteractive('df-064c3644-9c0f-4b44-be81-4887cceea80f')\"\n",
              "            title=\"Convert this dataframe to an interactive table.\"\n",
              "            style=\"display:none;\">\n",
              "\n",
              "  <svg xmlns=\"http://www.w3.org/2000/svg\" height=\"24px\" viewBox=\"0 -960 960 960\">\n",
              "    <path d=\"M120-120v-720h720v720H120Zm60-500h600v-160H180v160Zm220 220h160v-160H400v160Zm0 220h160v-160H400v160ZM180-400h160v-160H180v160Zm440 0h160v-160H620v160ZM180-180h160v-160H180v160Zm440 0h160v-160H620v160Z\"/>\n",
              "  </svg>\n",
              "    </button>\n",
              "\n",
              "  <style>\n",
              "    .colab-df-container {\n",
              "      display:flex;\n",
              "      gap: 12px;\n",
              "    }\n",
              "\n",
              "    .colab-df-convert {\n",
              "      background-color: #E8F0FE;\n",
              "      border: none;\n",
              "      border-radius: 50%;\n",
              "      cursor: pointer;\n",
              "      display: none;\n",
              "      fill: #1967D2;\n",
              "      height: 32px;\n",
              "      padding: 0 0 0 0;\n",
              "      width: 32px;\n",
              "    }\n",
              "\n",
              "    .colab-df-convert:hover {\n",
              "      background-color: #E2EBFA;\n",
              "      box-shadow: 0px 1px 2px rgba(60, 64, 67, 0.3), 0px 1px 3px 1px rgba(60, 64, 67, 0.15);\n",
              "      fill: #174EA6;\n",
              "    }\n",
              "\n",
              "    .colab-df-buttons div {\n",
              "      margin-bottom: 4px;\n",
              "    }\n",
              "\n",
              "    [theme=dark] .colab-df-convert {\n",
              "      background-color: #3B4455;\n",
              "      fill: #D2E3FC;\n",
              "    }\n",
              "\n",
              "    [theme=dark] .colab-df-convert:hover {\n",
              "      background-color: #434B5C;\n",
              "      box-shadow: 0px 1px 3px 1px rgba(0, 0, 0, 0.15);\n",
              "      filter: drop-shadow(0px 1px 2px rgba(0, 0, 0, 0.3));\n",
              "      fill: #FFFFFF;\n",
              "    }\n",
              "  </style>\n",
              "\n",
              "    <script>\n",
              "      const buttonEl =\n",
              "        document.querySelector('#df-064c3644-9c0f-4b44-be81-4887cceea80f button.colab-df-convert');\n",
              "      buttonEl.style.display =\n",
              "        google.colab.kernel.accessAllowed ? 'block' : 'none';\n",
              "\n",
              "      async function convertToInteractive(key) {\n",
              "        const element = document.querySelector('#df-064c3644-9c0f-4b44-be81-4887cceea80f');\n",
              "        const dataTable =\n",
              "          await google.colab.kernel.invokeFunction('convertToInteractive',\n",
              "                                                    [key], {});\n",
              "        if (!dataTable) return;\n",
              "\n",
              "        const docLinkHtml = 'Like what you see? Visit the ' +\n",
              "          '<a target=\"_blank\" href=https://colab.research.google.com/notebooks/data_table.ipynb>data table notebook</a>'\n",
              "          + ' to learn more about interactive tables.';\n",
              "        element.innerHTML = '';\n",
              "        dataTable['output_type'] = 'display_data';\n",
              "        await google.colab.output.renderOutput(dataTable, element);\n",
              "        const docLink = document.createElement('div');\n",
              "        docLink.innerHTML = docLinkHtml;\n",
              "        element.appendChild(docLink);\n",
              "      }\n",
              "    </script>\n",
              "  </div>\n",
              "\n",
              "    </div>\n",
              "  </div>\n"
            ]
          },
          "metadata": {},
          "execution_count": 190
        }
      ],
      "source": [
        "substitutions = pd.read_csv('HSE.task3.table_sample.csv')\n",
        "substitutions"
      ]
    },
    {
      "cell_type": "markdown",
      "metadata": {
        "id": "XLaxN3BDnEw4"
      },
      "source": [
        "Here we select needed region and make it reverse complementary for every substitution"
      ]
    },
    {
      "cell_type": "code",
      "execution_count": 191,
      "metadata": {
        "colab": {
          "base_uri": "https://localhost:8080/"
        },
        "id": "Hkxawi-EbhyS",
        "outputId": "533020aa-5ade-49b5-c307-72cacf97cc40"
      },
      "outputs": [
        {
          "output_type": "stream",
          "name": "stdout",
          "text": [
            "Done 0/1\n",
            "Total length of sequence: 2861\n",
            "Close look of the substitution: 77748619 --> TGCGTGCTG <-- 77748628, substitution T -> C from position 77748623, get TGCGCGCTG, rev compl subseq: CAGCGCGCA\n",
            "Done 1/1\n",
            "Total length of sequence: 2860\n",
            "Close look of the substitution: 77747591 --> AAATCTGGT <-- 77747600, substitution C -> - from position 77747595, get AAATTGGT, rev compl subseq: ACCAATTT\n"
          ]
        }
      ],
      "source": [
        "expander = 4 # +- bp from substitution for preview\n",
        "mut_seqs = [] # array of rev compl sequences\n",
        "\n",
        "for i in range(num_rows := substitutions.shape[0]):\n",
        "    start = substitutions.iloc[i, 1]\n",
        "    if abs(position_to_look_at - start) > margin:\n",
        "        print('Location of substitution is out of range (+- margin)!')\n",
        "        break\n",
        "    print(f'Done {i}/{num_rows-1}')\n",
        "    sub = substitutions.iloc[i, 3]\n",
        "    gt = substitutions.iloc[i, 2]\n",
        "    tmp_start = start - 1 - expander\n",
        "    tmp_end = start - 1 + expander + len(gt)\n",
        "    if sub == '-':\n",
        "        current_seq = hg19.fetch('chr18', position_to_look_at - 1 - margin, start - 1).upper() + \\\n",
        "         hg19.fetch('chr18', start - 1 + len(gt), position_to_look_at + margin).upper() # upper because tokenizer was pretrained on uppercase DNA\n",
        "    else:\n",
        "        current_seq = hg19.fetch('chr18', position_to_look_at - 1 - margin, start - 1).upper() + sub + \\\n",
        "         hg19.fetch('chr18', start, position_to_look_at + margin).upper()\n",
        "    print(f'Total length of sequence: {len(current_seq)}')\n",
        "    current_seq_rc = str(Seq(current_seq).reverse_complement())\n",
        "    if sub == '-':\n",
        "        print(f\"Close look of the substitution: {tmp_start} --> {hg19.fetch('chr18', tmp_start, tmp_end).upper()} <-- {tmp_end}, substitution {gt} -> {sub} from position {start - 1}, get {current_seq[margin - (position_to_look_at - start) - expander: margin - (position_to_look_at - start) + expander]}, rev compl subseq: {current_seq_rc[::-1][margin - (position_to_look_at - start) - expander: margin - (position_to_look_at - start) + expander][::-1]}\")\n",
        "    else:\n",
        "        print(f\"Close look of the substitution: {tmp_start} --> {hg19.fetch('chr18', tmp_start, tmp_end).upper()} <-- {tmp_end}, substitution {gt} -> {sub} from position {start - 1}, get {current_seq[margin - (position_to_look_at - start) - expander: margin - (position_to_look_at - start) + expander + 1]}, rev compl subseq: {current_seq_rc[::-1][margin - (position_to_look_at - start) - expander: margin - (position_to_look_at - start) + expander + 1][::-1]}\")\n",
        "    mut_seqs.append(current_seq_rc)"
      ]
    },
    {
      "cell_type": "markdown",
      "metadata": {
        "id": "B8ke2Euo13X6"
      },
      "source": [
        "# Tokenize sequences with mutations"
      ]
    },
    {
      "cell_type": "code",
      "execution_count": 192,
      "metadata": {
        "colab": {
          "base_uri": "https://localhost:8080/"
        },
        "id": "goacSagBmips",
        "outputId": "e21b0023-b092-4935-fb65-7d734982ebdf"
      },
      "outputs": [
        {
          "output_type": "stream",
          "name": "stdout",
          "text": [
            "Done 0/1, num tokens: 499\n",
            "Done 1/1, num tokens: 496\n"
          ]
        },
        {
          "output_type": "stream",
          "name": "stderr",
          "text": [
            "<ipython-input-192-1129edeeb749>:29: DeprecationWarning: In future, it will be an error for 'np.bool_' scalars to be interpreted as an index\n",
            "  tokenized_seq_mut['bins_mask'] = torch.tensor([tokenized_seq_mut['bins_mask']]).to(device)\n"
          ]
        }
      ],
      "source": [
        "mut_seqs_tokenized = [] # array of all tokenized sequences of substitutions\n",
        "for i in range(arr_len := len(mut_seqs)):\n",
        "    seq = mut_seqs[i]\n",
        "    counter = 0\n",
        "    all_token_ids_mut = [tokenizer.cls_token_id]\n",
        "    while 1:\n",
        "        the_bin = seq[counter:counter+128]\n",
        "        if len(the_bin) == 0:\n",
        "            break\n",
        "        else:\n",
        "            all_token_ids_mut += tokenizer(the_bin, add_special_tokens=False,\n",
        "                                           return_attention_mask=False,\n",
        "                                           return_token_type_ids=False)['input_ids'] + [tokenizer.sep_token_id]\n",
        "            counter += 128\n",
        "\n",
        "    all_token_ids_mut = np.array(all_token_ids_mut)\n",
        "    token_type_ids = np.array([0] * len(all_token_ids_mut))\n",
        "    attention_mask = np.array([1] * len(all_token_ids_mut))\n",
        "    bins_mask = (all_token_ids_mut == tokenizer.sep_token_id).astype(bool)\n",
        "\n",
        "    tokenized_seq_mut = {'input_ids': all_token_ids_mut,\n",
        "                    'token_type_ids': token_type_ids,\n",
        "                    'attention_mask': attention_mask,\n",
        "                    'bins_mask': bins_mask}\n",
        "\n",
        "    tokenized_seq_mut['input_ids'] = torch.tensor([tokenized_seq_mut['input_ids']]).to(device)\n",
        "    tokenized_seq_mut['token_type_ids'] = torch.tensor([tokenized_seq_mut['token_type_ids']]).to(device)\n",
        "    tokenized_seq_mut['attention_mask'] = torch.tensor([tokenized_seq_mut['attention_mask']]).to(device)\n",
        "    tokenized_seq_mut['bins_mask'] = torch.tensor([tokenized_seq_mut['bins_mask']]).to(device)\n",
        "\n",
        "    if len(tokenized_seq_mut['input_ids']) > 512:\n",
        "        print(f'Too big sequence to fit in the model!')\n",
        "        break\n",
        "\n",
        "    mut_seqs_tokenized.append(tokenized_seq_mut)\n",
        "    print(f\"Done {i}/{arr_len-1}, num tokens: {len(tokenized_seq_mut['input_ids'][0])}\")"
      ]
    },
    {
      "cell_type": "markdown",
      "metadata": {
        "id": "Y95FClO_5keW"
      },
      "source": [
        "# Make predictions"
      ]
    },
    {
      "cell_type": "markdown",
      "metadata": {
        "id": "ZxgU4-1DoGzm"
      },
      "source": [
        "For sequence with no mutations"
      ]
    },
    {
      "cell_type": "code",
      "execution_count": 193,
      "metadata": {
        "colab": {
          "base_uri": "https://localhost:8080/"
        },
        "id": "N_9FNXWV4ivo",
        "outputId": "9925f4b1-d4f5-498b-ac75-bb1211b17f37"
      },
      "outputs": [
        {
          "output_type": "stream",
          "name": "stderr",
          "text": [
            "/usr/local/lib/python3.10/dist-packages/transformers/modeling_utils.py:900: FutureWarning: The `device` argument is deprecated and will be removed in v5 of Transformers.\n",
            "  warnings.warn(\n"
          ]
        }
      ],
      "source": [
        "good_seq_preds = model(**tokenized_seq_good).logits.detach().cpu().numpy().squeeze()"
      ]
    },
    {
      "cell_type": "code",
      "execution_count": 194,
      "metadata": {
        "colab": {
          "base_uri": "https://localhost:8080/"
        },
        "id": "6rhpGrZE8WZN",
        "outputId": "8bb29fc0-c0e0-4354-d677-3108edab454b"
      },
      "outputs": [
        {
          "output_type": "execute_result",
          "data": {
            "text/plain": [
              "(23, 5313)"
            ]
          },
          "metadata": {},
          "execution_count": 194
        }
      ],
      "source": [
        "good_seq_preds.shape"
      ]
    },
    {
      "cell_type": "markdown",
      "metadata": {
        "id": "YmjQynN4oPbY"
      },
      "source": [
        "Fot sequences with mutations"
      ]
    },
    {
      "cell_type": "code",
      "execution_count": 195,
      "metadata": {
        "colab": {
          "base_uri": "https://localhost:8080/"
        },
        "id": "a4B_4ZaF6Nfq",
        "outputId": "db485ddf-102d-4413-e0c1-09e4040d9699"
      },
      "outputs": [
        {
          "output_type": "stream",
          "name": "stdout",
          "text": [
            "Shape of the prediction: (23, 5313), num bins: 23\n",
            "Done 0/1\n",
            "Shape of the prediction: (23, 5313), num bins: 23\n",
            "Done 1/1\n"
          ]
        }
      ],
      "source": [
        "mut_seq_preds = []\n",
        "for i in range(arr_len := len(mut_seqs)):\n",
        "    mut_seq_preds.append(cp := model(**mut_seqs_tokenized[i]).logits.detach().cpu().numpy().squeeze())\n",
        "    print(f'Shape of the prediction: {cp.shape}, num bins: {cp.shape[0]}')\n",
        "    print(f'Done {i}/{arr_len-1}')"
      ]
    },
    {
      "cell_type": "markdown",
      "metadata": {
        "id": "Au95H7vI71GI"
      },
      "source": [
        "# Plot results"
      ]
    },
    {
      "cell_type": "code",
      "execution_count": 196,
      "metadata": {
        "id": "SO5c_7Bt7w0r"
      },
      "outputs": [],
      "source": [
        "selected_cell_type = 4790"
      ]
    },
    {
      "cell_type": "code",
      "execution_count": 197,
      "metadata": {
        "colab": {
          "base_uri": "https://localhost:8080/",
          "height": 889
        },
        "id": "azuJNGHP8RAh",
        "outputId": "1b30beac-8ad1-441e-b526-ee7328a45091"
      },
      "outputs": [
        {
          "output_type": "display_data",
          "data": {
            "text/plain": [
              "<Figure size 640x480 with 0 Axes>"
            ]
          },
          "metadata": {}
        },
        {
          "output_type": "display_data",
          "data": {
            "text/plain": [
              "<Figure size 1400x1000 with 1 Axes>"
            ],
            "image/png": "[encoded data removed]"
          },
          "metadata": {}
        }
      ],
      "source": [
        "plt.clf()\n",
        "fig, ax = plt.subplots(1, 1, figsize=(14, 10))\n",
        "normalizer = sp(torch.tensor(good_seq_preds[:, 1])).numpy()[::-1]\n",
        "ax.plot(np.ones(len(normalizer)), label='without mutations', linestyle='dashed')\n",
        "for i in range(len(mut_seq_preds)):\n",
        "    ax.plot((e := sp(torch.tensor(mut_seq_preds[i][:, 1])).numpy()[::-1]) / normalizer[:len(e)], label=f'mut {i}')\n",
        "ax.set_title('Cell type id 4790')\n",
        "ax.set_xlabel('bins')\n",
        "ax.set_ylabel('expression fold change')\n",
        "ax.axvline(x = margin // 128 - 1, color = 'b', label = 'bins to look at')\n",
        "ax.axvline(x = margin // 128, color = 'b')\n",
        "ax.axvline(x = margin // 128 + 1, color = 'b')\n",
        "ax.set_xticks(xt := np.arange(len(e)))\n",
        "ax.set_xticklabels(list(map(lambda t: str(t), list(xt))))\n",
        "ax.legend(fontsize=10)\n",
        "plt.show()"
      ]
    },
    {
      "cell_type": "code",
      "execution_count": 129,
      "metadata": {
        "id": "twHPASYk9uJm"
      },
      "outputs": [],
      "source": []
    }
  ],
  "metadata": {
    "colab": {
      "provenance": []
    },
    "kernelspec": {
      "display_name": "Python 3",
      "name": "python3"
    },
    "language_info": {
      "name": "python"
    },
    "widgets": {
      "application/vnd.jupyter.widget-state+json": {
        "294d5cd68bc14d08b6e2ab48e4ab70ed": {
          "model_module": "@jupyter-widgets/controls",
          "model_name": "HBoxModel",
          "model_module_version": "1.5.0",
          "state": {
            "_dom_classes": [],
            "_model_module": "@jupyter-widgets/controls",
            "_model_module_version": "1.5.0",
            "_model_name": "HBoxModel",
            "_view_count": null,
            "_view_module": "@jupyter-widgets/controls",
            "_view_module_version": "1.5.0",
            "_view_name": "HBoxView",
            "box_style": "",
            "children": [
              "IPY_MODEL_61fb7cce68d1441299b5038b2441f0d1",
              "IPY_MODEL_530fc9df53b9491e88021ca90ab7b4e6",
              "IPY_MODEL_cff114f3348342a0944d98449c70b65e"
            ],
            "layout": "IPY_MODEL_35667317e96442bcbc34d36633b4a819"
          }
        },
        "61fb7cce68d1441299b5038b2441f0d1": {
          "model_module": "@jupyter-widgets/controls",
          "model_name": "HTMLModel",
          "model_module_version": "1.5.0",
          "state": {
            "_dom_classes": [],
            "_model_module": "@jupyter-widgets/controls",
            "_model_module_version": "1.5.0",
            "_model_name": "HTMLModel",
            "_view_count": null,
            "_view_module": "@jupyter-widgets/controls",
            "_view_module_version": "1.5.0",
            "_view_name": "HTMLView",
            "description": "",
            "description_tooltip": null,
            "layout": "IPY_MODEL_7b1fcfbca2e9469abf9a4e205fbf47dc",
            "placeholder": "​",
            "style": "IPY_MODEL_dcf05e1d25454d5d92d0acd57f713781",
            "value": "Downloading (…)okenizer_config.json: 100%"
          }
        },
        "530fc9df53b9491e88021ca90ab7b4e6": {
          "model_module": "@jupyter-widgets/controls",
          "model_name": "FloatProgressModel",
          "model_module_version": "1.5.0",
          "state": {
            "_dom_classes": [],
            "_model_module": "@jupyter-widgets/controls",
            "_model_module_version": "1.5.0",
            "_model_name": "FloatProgressModel",
            "_view_count": null,
            "_view_module": "@jupyter-widgets/controls",
            "_view_module_version": "1.5.0",
            "_view_name": "ProgressView",
            "bar_style": "success",
            "description": "",
            "description_tooltip": null,
            "layout": "IPY_MODEL_13e1af8672734f04891347bec925eda8",
            "max": 46,
            "min": 0,
            "orientation": "horizontal",
            "style": "IPY_MODEL_f0cf8f9102284408bb49d2ff92b44a52",
            "value": 46
          }
        },
        "cff114f3348342a0944d98449c70b65e": {
          "model_module": "@jupyter-widgets/controls",
          "model_name": "HTMLModel",
          "model_module_version": "1.5.0",
          "state": {
            "_dom_classes": [],
            "_model_module": "@jupyter-widgets/controls",
            "_model_module_version": "1.5.0",
            "_model_name": "HTMLModel",
            "_view_count": null,
            "_view_module": "@jupyter-widgets/controls",
            "_view_module_version": "1.5.0",
            "_view_name": "HTMLView",
            "description": "",
            "description_tooltip": null,
            "layout": "IPY_MODEL_9257b4727650497193b6c0ec233a5572",
            "placeholder": "​",
            "style": "IPY_MODEL_ab836f888fd6426b955376c6c858ca06",
            "value": " 46.0/46.0 [00:00&lt;00:00, 2.21kB/s]"
          }
        },
        "35667317e96442bcbc34d36633b4a819": {
          "model_module": "@jupyter-widgets/base",
          "model_name": "LayoutModel",
          "model_module_version": "1.2.0",
          "state": {
            "_model_module": "@jupyter-widgets/base",
            "_model_module_version": "1.2.0",
            "_model_name": "LayoutModel",
            "_view_count": null,
            "_view_module": "@jupyter-widgets/base",
            "_view_module_version": "1.2.0",
            "_view_name": "LayoutView",
            "align_content": null,
            "align_items": null,
            "align_self": null,
            "border": null,
            "bottom": null,
            "display": null,
            "flex": null,
            "flex_flow": null,
            "grid_area": null,
            "grid_auto_columns": null,
            "grid_auto_flow": null,
            "grid_auto_rows": null,
            "grid_column": null,
            "grid_gap": null,
            "grid_row": null,
            "grid_template_areas": null,
            "grid_template_columns": null,
            "grid_template_rows": null,
            "height": null,
            "justify_content": null,
            "justify_items": null,
            "left": null,
            "margin": null,
            "max_height": null,
            "max_width": null,
            "min_height": null,
            "min_width": null,
            "object_fit": null,
            "object_position": null,
            "order": null,
            "overflow": null,
            "overflow_x": null,
            "overflow_y": null,
            "padding": null,
            "right": null,
            "top": null,
            "visibility": null,
            "width": null
          }
        },
        "7b1fcfbca2e9469abf9a4e205fbf47dc": {
          "model_module": "@jupyter-widgets/base",
          "model_name": "LayoutModel",
          "model_module_version": "1.2.0",
          "state": {
            "_model_module": "@jupyter-widgets/base",
            "_model_module_version": "1.2.0",
            "_model_name": "LayoutModel",
            "_view_count": null,
            "_view_module": "@jupyter-widgets/base",
            "_view_module_version": "1.2.0",
            "_view_name": "LayoutView",
            "align_content": null,
            "align_items": null,
            "align_self": null,
            "border": null,
            "bottom": null,
            "display": null,
            "flex": null,
            "flex_flow": null,
            "grid_area": null,
            "grid_auto_columns": null,
            "grid_auto_flow": null,
            "grid_auto_rows": null,
            "grid_column": null,
            "grid_gap": null,
            "grid_row": null,
            "grid_template_areas": null,
            "grid_template_columns": null,
            "grid_template_rows": null,
            "height": null,
            "justify_content": null,
            "justify_items": null,
            "left": null,
            "margin": null,
            "max_height": null,
            "max_width": null,
            "min_height": null,
            "min_width": null,
            "object_fit": null,
            "object_position": null,
            "order": null,
            "overflow": null,
            "overflow_x": null,
            "overflow_y": null,
            "padding": null,
            "right": null,
            "top": null,
            "visibility": null,
            "width": null
          }
        },
        "dcf05e1d25454d5d92d0acd57f713781": {
          "model_module": "@jupyter-widgets/controls",
          "model_name": "DescriptionStyleModel",
          "model_module_version": "1.5.0",
          "state": {
            "_model_module": "@jupyter-widgets/controls",
            "_model_module_version": "1.5.0",
            "_model_name": "DescriptionStyleModel",
            "_view_count": null,
            "_view_module": "@jupyter-widgets/base",
            "_view_module_version": "1.2.0",
            "_view_name": "StyleView",
            "description_width": ""
          }
        },
        "13e1af8672734f04891347bec925eda8": {
          "model_module": "@jupyter-widgets/base",
          "model_name": "LayoutModel",
          "model_module_version": "1.2.0",
          "state": {
            "_model_module": "@jupyter-widgets/base",
            "_model_module_version": "1.2.0",
            "_model_name": "LayoutModel",
            "_view_count": null,
            "_view_module": "@jupyter-widgets/base",
            "_view_module_version": "1.2.0",
            "_view_name": "LayoutView",
            "align_content": null,
            "align_items": null,
            "align_self": null,
            "border": null,
            "bottom": null,
            "display": null,
            "flex": null,
            "flex_flow": null,
            "grid_area": null,
            "grid_auto_columns": null,
            "grid_auto_flow": null,
            "grid_auto_rows": null,
            "grid_column": null,
            "grid_gap": null,
            "grid_row": null,
            "grid_template_areas": null,
            "grid_template_columns": null,
            "grid_template_rows": null,
            "height": null,
            "justify_content": null,
            "justify_items": null,
            "left": null,
            "margin": null,
            "max_height": null,
            "max_width": null,
            "min_height": null,
            "min_width": null,
            "object_fit": null,
            "object_position": null,
            "order": null,
            "overflow": null,
            "overflow_x": null,
            "overflow_y": null,
            "padding": null,
            "right": null,
            "top": null,
            "visibility": null,
            "width": null
          }
        },
        "f0cf8f9102284408bb49d2ff92b44a52": {
          "model_module": "@jupyter-widgets/controls",
          "model_name": "ProgressStyleModel",
          "model_module_version": "1.5.0",
          "state": {
            "_model_module": "@jupyter-widgets/controls",
            "_model_module_version": "1.5.0",
            "_model_name": "ProgressStyleModel",
            "_view_count": null,
            "_view_module": "@jupyter-widgets/base",
            "_view_module_version": "1.2.0",
            "_view_name": "StyleView",
            "bar_color": null,
            "description_width": ""
          }
        },
        "9257b4727650497193b6c0ec233a5572": {
          "model_module": "@jupyter-widgets/base",
          "model_name": "LayoutModel",
          "model_module_version": "1.2.0",
          "state": {
            "_model_module": "@jupyter-widgets/base",
            "_model_module_version": "1.2.0",
            "_model_name": "LayoutModel",
            "_view_count": null,
            "_view_module": "@jupyter-widgets/base",
            "_view_module_version": "1.2.0",
            "_view_name": "LayoutView",
            "align_content": null,
            "align_items": null,
            "align_self": null,
            "border": null,
            "bottom": null,
            "display": null,
            "flex": null,
            "flex_flow": null,
            "grid_area": null,
            "grid_auto_columns": null,
            "grid_auto_flow": null,
            "grid_auto_rows": null,
            "grid_column": null,
            "grid_gap": null,
            "grid_row": null,
            "grid_template_areas": null,
            "grid_template_columns": null,
            "grid_template_rows": null,
            "height": null,
            "justify_content": null,
            "justify_items": null,
            "left": null,
            "margin": null,
            "max_height": null,
            "max_width": null,
            "min_height": null,
            "min_width": null,
            "object_fit": null,
            "object_position": null,
            "order": null,
            "overflow": null,
            "overflow_x": null,
            "overflow_y": null,
            "padding": null,
            "right": null,
            "top": null,
            "visibility": null,
            "width": null
          }
        },
        "ab836f888fd6426b955376c6c858ca06": {
          "model_module": "@jupyter-widgets/controls",
          "model_name": "DescriptionStyleModel",
          "model_module_version": "1.5.0",
          "state": {
            "_model_module": "@jupyter-widgets/controls",
            "_model_module_version": "1.5.0",
            "_model_name": "DescriptionStyleModel",
            "_view_count": null,
            "_view_module": "@jupyter-widgets/base",
            "_view_module_version": "1.2.0",
            "_view_name": "StyleView",
            "description_width": ""
          }
        },
        "e98760afb9bb464382c8cc299b349001": {
          "model_module": "@jupyter-widgets/controls",
          "model_name": "HBoxModel",
          "model_module_version": "1.5.0",
          "state": {
            "_dom_classes": [],
            "_model_module": "@jupyter-widgets/controls",
            "_model_module_version": "1.5.0",
            "_model_name": "HBoxModel",
            "_view_count": null,
            "_view_module": "@jupyter-widgets/controls",
            "_view_module_version": "1.5.0",
            "_view_name": "HBoxView",
            "box_style": "",
            "children": [
              "IPY_MODEL_2de12fd2a6144170b6337e37065bd1e2",
              "IPY_MODEL_5c43b324e1aa4f539e85d9386788c6e9",
              "IPY_MODEL_11d8a45141014c1c9432d93f72d01937"
            ],
            "layout": "IPY_MODEL_3b72dc241b074721a35aebc2b75a7a33"
          }
        },
        "2de12fd2a6144170b6337e37065bd1e2": {
          "model_module": "@jupyter-widgets/controls",
          "model_name": "HTMLModel",
          "model_module_version": "1.5.0",
          "state": {
            "_dom_classes": [],
            "_model_module": "@jupyter-widgets/controls",
            "_model_module_version": "1.5.0",
            "_model_name": "HTMLModel",
            "_view_count": null,
            "_view_module": "@jupyter-widgets/controls",
            "_view_module_version": "1.5.0",
            "_view_name": "HTMLView",
            "description": "",
            "description_tooltip": null,
            "layout": "IPY_MODEL_9cce7aa655a64eabb0bcc8b9fb5c8a09",
            "placeholder": "​",
            "style": "IPY_MODEL_0028aceddf994710a0aa97ad47fb0df9",
            "value": "Downloading (…)/main/tokenizer.json: 100%"
          }
        },
        "5c43b324e1aa4f539e85d9386788c6e9": {
          "model_module": "@jupyter-widgets/controls",
          "model_name": "FloatProgressModel",
          "model_module_version": "1.5.0",
          "state": {
            "_dom_classes": [],
            "_model_module": "@jupyter-widgets/controls",
            "_model_module_version": "1.5.0",
            "_model_name": "FloatProgressModel",
            "_view_count": null,
            "_view_module": "@jupyter-widgets/controls",
            "_view_module_version": "1.5.0",
            "_view_name": "ProgressView",
            "bar_style": "success",
            "description": "",
            "description_tooltip": null,
            "layout": "IPY_MODEL_dd7e891758334e68a850ab60d2a6a657",
            "max": 1476210,
            "min": 0,
            "orientation": "horizontal",
            "style": "IPY_MODEL_973cb3577638454a80f1ea7cea2d4250",
            "value": 1476210
          }
        },
        "11d8a45141014c1c9432d93f72d01937": {
          "model_module": "@jupyter-widgets/controls",
          "model_name": "HTMLModel",
          "model_module_version": "1.5.0",
          "state": {
            "_dom_classes": [],
            "_model_module": "@jupyter-widgets/controls",
            "_model_module_version": "1.5.0",
            "_model_name": "HTMLModel",
            "_view_count": null,
            "_view_module": "@jupyter-widgets/controls",
            "_view_module_version": "1.5.0",
            "_view_name": "HTMLView",
            "description": "",
            "description_tooltip": null,
            "layout": "IPY_MODEL_088781c361f8437fa07ebec2bb64e83b",
            "placeholder": "​",
            "style": "IPY_MODEL_2f919932509e402eb3b2abdc3c3e567a",
            "value": " 1.48M/1.48M [00:00&lt;00:00, 12.3MB/s]"
          }
        },
        "3b72dc241b074721a35aebc2b75a7a33": {
          "model_module": "@jupyter-widgets/base",
          "model_name": "LayoutModel",
          "model_module_version": "1.2.0",
          "state": {
            "_model_module": "@jupyter-widgets/base",
            "_model_module_version": "1.2.0",
            "_model_name": "LayoutModel",
            "_view_count": null,
            "_view_module": "@jupyter-widgets/base",
            "_view_module_version": "1.2.0",
            "_view_name": "LayoutView",
            "align_content": null,
            "align_items": null,
            "align_self": null,
            "border": null,
            "bottom": null,
            "display": null,
            "flex": null,
            "flex_flow": null,
            "grid_area": null,
            "grid_auto_columns": null,
            "grid_auto_flow": null,
            "grid_auto_rows": null,
            "grid_column": null,
            "grid_gap": null,
            "grid_row": null,
            "grid_template_areas": null,
            "grid_template_columns": null,
            "grid_template_rows": null,
            "height": null,
            "justify_content": null,
            "justify_items": null,
            "left": null,
            "margin": null,
            "max_height": null,
            "max_width": null,
            "min_height": null,
            "min_width": null,
            "object_fit": null,
            "object_position": null,
            "order": null,
            "overflow": null,
            "overflow_x": null,
            "overflow_y": null,
            "padding": null,
            "right": null,
            "top": null,
            "visibility": null,
            "width": null
          }
        },
        "9cce7aa655a64eabb0bcc8b9fb5c8a09": {
          "model_module": "@jupyter-widgets/base",
          "model_name": "LayoutModel",
          "model_module_version": "1.2.0",
          "state": {
            "_model_module": "@jupyter-widgets/base",
            "_model_module_version": "1.2.0",
            "_model_name": "LayoutModel",
            "_view_count": null,
            "_view_module": "@jupyter-widgets/base",
            "_view_module_version": "1.2.0",
            "_view_name": "LayoutView",
            "align_content": null,
            "align_items": null,
            "align_self": null,
            "border": null,
            "bottom": null,
            "display": null,
            "flex": null,
            "flex_flow": null,
            "grid_area": null,
            "grid_auto_columns": null,
            "grid_auto_flow": null,
            "grid_auto_rows": null,
            "grid_column": null,
            "grid_gap": null,
            "grid_row": null,
            "grid_template_areas": null,
            "grid_template_columns": null,
            "grid_template_rows": null,
            "height": null,
            "justify_content": null,
            "justify_items": null,
            "left": null,
            "margin": null,
            "max_height": null,
            "max_width": null,
            "min_height": null,
            "min_width": null,
            "object_fit": null,
            "object_position": null,
            "order": null,
            "overflow": null,
            "overflow_x": null,
            "overflow_y": null,
            "padding": null,
            "right": null,
            "top": null,
            "visibility": null,
            "width": null
          }
        },
        "0028aceddf994710a0aa97ad47fb0df9": {
          "model_module": "@jupyter-widgets/controls",
          "model_name": "DescriptionStyleModel",
          "model_module_version": "1.5.0",
          "state": {
            "_model_module": "@jupyter-widgets/controls",
            "_model_module_version": "1.5.0",
            "_model_name": "DescriptionStyleModel",
            "_view_count": null,
            "_view_module": "@jupyter-widgets/base",
            "_view_module_version": "1.2.0",
            "_view_name": "StyleView",
            "description_width": ""
          }
        },
        "dd7e891758334e68a850ab60d2a6a657": {
          "model_module": "@jupyter-widgets/base",
          "model_name": "LayoutModel",
          "model_module_version": "1.2.0",
          "state": {
            "_model_module": "@jupyter-widgets/base",
            "_model_module_version": "1.2.0",
            "_model_name": "LayoutModel",
            "_view_count": null,
            "_view_module": "@jupyter-widgets/base",
            "_view_module_version": "1.2.0",
            "_view_name": "LayoutView",
            "align_content": null,
            "align_items": null,
            "align_self": null,
            "border": null,
            "bottom": null,
            "display": null,
            "flex": null,
            "flex_flow": null,
            "grid_area": null,
            "grid_auto_columns": null,
            "grid_auto_flow": null,
            "grid_auto_rows": null,
            "grid_column": null,
            "grid_gap": null,
            "grid_row": null,
            "grid_template_areas": null,
            "grid_template_columns": null,
            "grid_template_rows": null,
            "height": null,
            "justify_content": null,
            "justify_items": null,
            "left": null,
            "margin": null,
            "max_height": null,
            "max_width": null,
            "min_height": null,
            "min_width": null,
            "object_fit": null,
            "object_position": null,
            "order": null,
            "overflow": null,
            "overflow_x": null,
            "overflow_y": null,
            "padding": null,
            "right": null,
            "top": null,
            "visibility": null,
            "width": null
          }
        },
        "973cb3577638454a80f1ea7cea2d4250": {
          "model_module": "@jupyter-widgets/controls",
          "model_name": "ProgressStyleModel",
          "model_module_version": "1.5.0",
          "state": {
            "_model_module": "@jupyter-widgets/controls",
            "_model_module_version": "1.5.0",
            "_model_name": "ProgressStyleModel",
            "_view_count": null,
            "_view_module": "@jupyter-widgets/base",
            "_view_module_version": "1.2.0",
            "_view_name": "StyleView",
            "bar_color": null,
            "description_width": ""
          }
        },
        "088781c361f8437fa07ebec2bb64e83b": {
          "model_module": "@jupyter-widgets/base",
          "model_name": "LayoutModel",
          "model_module_version": "1.2.0",
          "state": {
            "_model_module": "@jupyter-widgets/base",
            "_model_module_version": "1.2.0",
            "_model_name": "LayoutModel",
            "_view_count": null,
            "_view_module": "@jupyter-widgets/base",
            "_view_module_version": "1.2.0",
            "_view_name": "LayoutView",
            "align_content": null,
            "align_items": null,
            "align_self": null,
            "border": null,
            "bottom": null,
            "display": null,
            "flex": null,
            "flex_flow": null,
            "grid_area": null,
            "grid_auto_columns": null,
            "grid_auto_flow": null,
            "grid_auto_rows": null,
            "grid_column": null,
            "grid_gap": null,
            "grid_row": null,
            "grid_template_areas": null,
            "grid_template_columns": null,
            "grid_template_rows": null,
            "height": null,
            "justify_content": null,
            "justify_items": null,
            "left": null,
            "margin": null,
            "max_height": null,
            "max_width": null,
            "min_height": null,
            "min_width": null,
            "object_fit": null,
            "object_position": null,
            "order": null,
            "overflow": null,
            "overflow_x": null,
            "overflow_y": null,
            "padding": null,
            "right": null,
            "top": null,
            "visibility": null,
            "width": null
          }
        },
        "2f919932509e402eb3b2abdc3c3e567a": {
          "model_module": "@jupyter-widgets/controls",
          "model_name": "DescriptionStyleModel",
          "model_module_version": "1.5.0",
          "state": {
            "_model_module": "@jupyter-widgets/controls",
            "_model_module_version": "1.5.0",
            "_model_name": "DescriptionStyleModel",
            "_view_count": null,
            "_view_module": "@jupyter-widgets/base",
            "_view_module_version": "1.2.0",
            "_view_name": "StyleView",
            "description_width": ""
          }
        },
        "4d406c9ac5d645518315b69687b340f1": {
          "model_module": "@jupyter-widgets/controls",
          "model_name": "HBoxModel",
          "model_module_version": "1.5.0",
          "state": {
            "_dom_classes": [],
            "_model_module": "@jupyter-widgets/controls",
            "_model_module_version": "1.5.0",
            "_model_name": "HBoxModel",
            "_view_count": null,
            "_view_module": "@jupyter-widgets/controls",
            "_view_module_version": "1.5.0",
            "_view_name": "HBoxView",
            "box_style": "",
            "children": [
              "IPY_MODEL_53c2b60313c049218e57217f530a76d1",
              "IPY_MODEL_ba129b0e042948cfb2ba0b0aacc08e88",
              "IPY_MODEL_eb7141b5bbaa45c5be27551b91e2793c"
            ],
            "layout": "IPY_MODEL_a6ab552cbf124de7bfb9964483b454fe"
          }
        },
        "53c2b60313c049218e57217f530a76d1": {
          "model_module": "@jupyter-widgets/controls",
          "model_name": "HTMLModel",
          "model_module_version": "1.5.0",
          "state": {
            "_dom_classes": [],
            "_model_module": "@jupyter-widgets/controls",
            "_model_module_version": "1.5.0",
            "_model_name": "HTMLModel",
            "_view_count": null,
            "_view_module": "@jupyter-widgets/controls",
            "_view_module_version": "1.5.0",
            "_view_name": "HTMLView",
            "description": "",
            "description_tooltip": null,
            "layout": "IPY_MODEL_36cd2098fd51470bbf1aa6a7247a62f8",
            "placeholder": "​",
            "style": "IPY_MODEL_be08220054d34dc4b157b6e59c84e241",
            "value": "Downloading (…)cial_tokens_map.json: 100%"
          }
        },
        "ba129b0e042948cfb2ba0b0aacc08e88": {
          "model_module": "@jupyter-widgets/controls",
          "model_name": "FloatProgressModel",
          "model_module_version": "1.5.0",
          "state": {
            "_dom_classes": [],
            "_model_module": "@jupyter-widgets/controls",
            "_model_module_version": "1.5.0",
            "_model_name": "FloatProgressModel",
            "_view_count": null,
            "_view_module": "@jupyter-widgets/controls",
            "_view_module_version": "1.5.0",
            "_view_name": "ProgressView",
            "bar_style": "success",
            "description": "",
            "description_tooltip": null,
            "layout": "IPY_MODEL_5424e6c30f9d4bddb9f1ead5bbd52dd2",
            "max": 112,
            "min": 0,
            "orientation": "horizontal",
            "style": "IPY_MODEL_0886d8cc106644ccb1d5e3a68275d1c6",
            "value": 112
          }
        },
        "eb7141b5bbaa45c5be27551b91e2793c": {
          "model_module": "@jupyter-widgets/controls",
          "model_name": "HTMLModel",
          "model_module_version": "1.5.0",
          "state": {
            "_dom_classes": [],
            "_model_module": "@jupyter-widgets/controls",
            "_model_module_version": "1.5.0",
            "_model_name": "HTMLModel",
            "_view_count": null,
            "_view_module": "@jupyter-widgets/controls",
            "_view_module_version": "1.5.0",
            "_view_name": "HTMLView",
            "description": "",
            "description_tooltip": null,
            "layout": "IPY_MODEL_3b48e296d72f4717923849392abd856d",
            "placeholder": "​",
            "style": "IPY_MODEL_f4355938b3904c658d3800e60b0ed19f",
            "value": " 112/112 [00:00&lt;00:00, 6.61kB/s]"
          }
        },
        "a6ab552cbf124de7bfb9964483b454fe": {
          "model_module": "@jupyter-widgets/base",
          "model_name": "LayoutModel",
          "model_module_version": "1.2.0",
          "state": {
            "_model_module": "@jupyter-widgets/base",
            "_model_module_version": "1.2.0",
            "_model_name": "LayoutModel",
            "_view_count": null,
            "_view_module": "@jupyter-widgets/base",
            "_view_module_version": "1.2.0",
            "_view_name": "LayoutView",
            "align_content": null,
            "align_items": null,
            "align_self": null,
            "border": null,
            "bottom": null,
            "display": null,
            "flex": null,
            "flex_flow": null,
            "grid_area": null,
            "grid_auto_columns": null,
            "grid_auto_flow": null,
            "grid_auto_rows": null,
            "grid_column": null,
            "grid_gap": null,
            "grid_row": null,
            "grid_template_areas": null,
            "grid_template_columns": null,
            "grid_template_rows": null,
            "height": null,
            "justify_content": null,
            "justify_items": null,
            "left": null,
            "margin": null,
            "max_height": null,
            "max_width": null,
            "min_height": null,
            "min_width": null,
            "object_fit": null,
            "object_position": null,
            "order": null,
            "overflow": null,
            "overflow_x": null,
            "overflow_y": null,
            "padding": null,
            "right": null,
            "top": null,
            "visibility": null,
            "width": null
          }
        },
        "36cd2098fd51470bbf1aa6a7247a62f8": {
          "model_module": "@jupyter-widgets/base",
          "model_name": "LayoutModel",
          "model_module_version": "1.2.0",
          "state": {
            "_model_module": "@jupyter-widgets/base",
            "_model_module_version": "1.2.0",
            "_model_name": "LayoutModel",
            "_view_count": null,
            "_view_module": "@jupyter-widgets/base",
            "_view_module_version": "1.2.0",
            "_view_name": "LayoutView",
            "align_content": null,
            "align_items": null,
            "align_self": null,
            "border": null,
            "bottom": null,
            "display": null,
            "flex": null,
            "flex_flow": null,
            "grid_area": null,
            "grid_auto_columns": null,
            "grid_auto_flow": null,
            "grid_auto_rows": null,
            "grid_column": null,
            "grid_gap": null,
            "grid_row": null,
            "grid_template_areas": null,
            "grid_template_columns": null,
            "grid_template_rows": null,
            "height": null,
            "justify_content": null,
            "justify_items": null,
            "left": null,
            "margin": null,
            "max_height": null,
            "max_width": null,
            "min_height": null,
            "min_width": null,
            "object_fit": null,
            "object_position": null,
            "order": null,
            "overflow": null,
            "overflow_x": null,
            "overflow_y": null,
            "padding": null,
            "right": null,
            "top": null,
            "visibility": null,
            "width": null
          }
        },
        "be08220054d34dc4b157b6e59c84e241": {
          "model_module": "@jupyter-widgets/controls",
          "model_name": "DescriptionStyleModel",
          "model_module_version": "1.5.0",
          "state": {
            "_model_module": "@jupyter-widgets/controls",
            "_model_module_version": "1.5.0",
            "_model_name": "DescriptionStyleModel",
            "_view_count": null,
            "_view_module": "@jupyter-widgets/base",
            "_view_module_version": "1.2.0",
            "_view_name": "StyleView",
            "description_width": ""
          }
        },
        "5424e6c30f9d4bddb9f1ead5bbd52dd2": {
          "model_module": "@jupyter-widgets/base",
          "model_name": "LayoutModel",
          "model_module_version": "1.2.0",
          "state": {
            "_model_module": "@jupyter-widgets/base",
            "_model_module_version": "1.2.0",
            "_model_name": "LayoutModel",
            "_view_count": null,
            "_view_module": "@jupyter-widgets/base",
            "_view_module_version": "1.2.0",
            "_view_name": "LayoutView",
            "align_content": null,
            "align_items": null,
            "align_self": null,
            "border": null,
            "bottom": null,
            "display": null,
            "flex": null,
            "flex_flow": null,
            "grid_area": null,
            "grid_auto_columns": null,
            "grid_auto_flow": null,
            "grid_auto_rows": null,
            "grid_column": null,
            "grid_gap": null,
            "grid_row": null,
            "grid_template_areas": null,
            "grid_template_columns": null,
            "grid_template_rows": null,
            "height": null,
            "justify_content": null,
            "justify_items": null,
            "left": null,
            "margin": null,
            "max_height": null,
            "max_width": null,
            "min_height": null,
            "min_width": null,
            "object_fit": null,
            "object_position": null,
            "order": null,
            "overflow": null,
            "overflow_x": null,
            "overflow_y": null,
            "padding": null,
            "right": null,
            "top": null,
            "visibility": null,
            "width": null
          }
        },
        "0886d8cc106644ccb1d5e3a68275d1c6": {
          "model_module": "@jupyter-widgets/controls",
          "model_name": "ProgressStyleModel",
          "model_module_version": "1.5.0",
          "state": {
            "_model_module": "@jupyter-widgets/controls",
            "_model_module_version": "1.5.0",
            "_model_name": "ProgressStyleModel",
            "_view_count": null,
            "_view_module": "@jupyter-widgets/base",
            "_view_module_version": "1.2.0",
            "_view_name": "StyleView",
            "bar_color": null,
            "description_width": ""
          }
        },
        "3b48e296d72f4717923849392abd856d": {
          "model_module": "@jupyter-widgets/base",
          "model_name": "LayoutModel",
          "model_module_version": "1.2.0",
          "state": {
            "_model_module": "@jupyter-widgets/base",
            "_model_module_version": "1.2.0",
            "_model_name": "LayoutModel",
            "_view_count": null,
            "_view_module": "@jupyter-widgets/base",
            "_view_module_version": "1.2.0",
            "_view_name": "LayoutView",
            "align_content": null,
            "align_items": null,
            "align_self": null,
            "border": null,
            "bottom": null,
            "display": null,
            "flex": null,
            "flex_flow": null,
            "grid_area": null,
            "grid_auto_columns": null,
            "grid_auto_flow": null,
            "grid_auto_rows": null,
            "grid_column": null,
            "grid_gap": null,
            "grid_row": null,
            "grid_template_areas": null,
            "grid_template_columns": null,
            "grid_template_rows": null,
            "height": null,
            "justify_content": null,
            "justify_items": null,
            "left": null,
            "margin": null,
            "max_height": null,
            "max_width": null,
            "min_height": null,
            "min_width": null,
            "object_fit": null,
            "object_position": null,
            "order": null,
            "overflow": null,
            "overflow_x": null,
            "overflow_y": null,
            "padding": null,
            "right": null,
            "top": null,
            "visibility": null,
            "width": null
          }
        },
        "f4355938b3904c658d3800e60b0ed19f": {
          "model_module": "@jupyter-widgets/controls",
          "model_name": "DescriptionStyleModel",
          "model_module_version": "1.5.0",
          "state": {
            "_model_module": "@jupyter-widgets/controls",
            "_model_module_version": "1.5.0",
            "_model_name": "DescriptionStyleModel",
            "_view_count": null,
            "_view_module": "@jupyter-widgets/base",
            "_view_module_version": "1.2.0",
            "_view_name": "StyleView",
            "description_width": ""
          }
        },
        "6cce60c8bd4646c99e60c24520d2c9b8": {
          "model_module": "@jupyter-widgets/controls",
          "model_name": "HBoxModel",
          "model_module_version": "1.5.0",
          "state": {
            "_dom_classes": [],
            "_model_module": "@jupyter-widgets/controls",
            "_model_module_version": "1.5.0",
            "_model_name": "HBoxModel",
            "_view_count": null,
            "_view_module": "@jupyter-widgets/controls",
            "_view_module_version": "1.5.0",
            "_view_name": "HBoxView",
            "box_style": "",
            "children": [
              "IPY_MODEL_8fd313d665524e12a76dfb1a148baca9",
              "IPY_MODEL_a8c63885d41a458d8d5b33e95d8d110f",
              "IPY_MODEL_8c36dcb843964d25b72fafacd12805f1"
            ],
            "layout": "IPY_MODEL_981b54c3a4c34baea055e0c9e9fa07c8"
          }
        },
        "8fd313d665524e12a76dfb1a148baca9": {
          "model_module": "@jupyter-widgets/controls",
          "model_name": "HTMLModel",
          "model_module_version": "1.5.0",
          "state": {
            "_dom_classes": [],
            "_model_module": "@jupyter-widgets/controls",
            "_model_module_version": "1.5.0",
            "_model_name": "HTMLModel",
            "_view_count": null,
            "_view_module": "@jupyter-widgets/controls",
            "_view_module_version": "1.5.0",
            "_view_name": "HTMLView",
            "description": "",
            "description_tooltip": null,
            "layout": "IPY_MODEL_df44e08fa13f47dfabdcc9b5f34f65a7",
            "placeholder": "​",
            "style": "IPY_MODEL_ad6043ab17fd42739b419a996425b741",
            "value": "Downloading (…)enformer/config.json: 100%"
          }
        },
        "a8c63885d41a458d8d5b33e95d8d110f": {
          "model_module": "@jupyter-widgets/controls",
          "model_name": "FloatProgressModel",
          "model_module_version": "1.5.0",
          "state": {
            "_dom_classes": [],
            "_model_module": "@jupyter-widgets/controls",
            "_model_module_version": "1.5.0",
            "_model_name": "FloatProgressModel",
            "_view_count": null,
            "_view_module": "@jupyter-widgets/controls",
            "_view_module_version": "1.5.0",
            "_view_name": "ProgressView",
            "bar_style": "success",
            "description": "",
            "description_tooltip": null,
            "layout": "IPY_MODEL_af1ae9915df24b4dbd0640767c2ce0c2",
            "max": 717,
            "min": 0,
            "orientation": "horizontal",
            "style": "IPY_MODEL_261a8b651e114f9499081b75866d1dd9",
            "value": 717
          }
        },
        "8c36dcb843964d25b72fafacd12805f1": {
          "model_module": "@jupyter-widgets/controls",
          "model_name": "HTMLModel",
          "model_module_version": "1.5.0",
          "state": {
            "_dom_classes": [],
            "_model_module": "@jupyter-widgets/controls",
            "_model_module_version": "1.5.0",
            "_model_name": "HTMLModel",
            "_view_count": null,
            "_view_module": "@jupyter-widgets/controls",
            "_view_module_version": "1.5.0",
            "_view_name": "HTMLView",
            "description": "",
            "description_tooltip": null,
            "layout": "IPY_MODEL_b7456ce1dcd54375afdac70eac10688b",
            "placeholder": "​",
            "style": "IPY_MODEL_2272d3913a56477384590535e8312c22",
            "value": " 717/717 [00:00&lt;00:00, 33.2kB/s]"
          }
        },
        "981b54c3a4c34baea055e0c9e9fa07c8": {
          "model_module": "@jupyter-widgets/base",
          "model_name": "LayoutModel",
          "model_module_version": "1.2.0",
          "state": {
            "_model_module": "@jupyter-widgets/base",
            "_model_module_version": "1.2.0",
            "_model_name": "LayoutModel",
            "_view_count": null,
            "_view_module": "@jupyter-widgets/base",
            "_view_module_version": "1.2.0",
            "_view_name": "LayoutView",
            "align_content": null,
            "align_items": null,
            "align_self": null,
            "border": null,
            "bottom": null,
            "display": null,
            "flex": null,
            "flex_flow": null,
            "grid_area": null,
            "grid_auto_columns": null,
            "grid_auto_flow": null,
            "grid_auto_rows": null,
            "grid_column": null,
            "grid_gap": null,
            "grid_row": null,
            "grid_template_areas": null,
            "grid_template_columns": null,
            "grid_template_rows": null,
            "height": null,
            "justify_content": null,
            "justify_items": null,
            "left": null,
            "margin": null,
            "max_height": null,
            "max_width": null,
            "min_height": null,
            "min_width": null,
            "object_fit": null,
            "object_position": null,
            "order": null,
            "overflow": null,
            "overflow_x": null,
            "overflow_y": null,
            "padding": null,
            "right": null,
            "top": null,
            "visibility": null,
            "width": null
          }
        },
        "df44e08fa13f47dfabdcc9b5f34f65a7": {
          "model_module": "@jupyter-widgets/base",
          "model_name": "LayoutModel",
          "model_module_version": "1.2.0",
          "state": {
            "_model_module": "@jupyter-widgets/base",
            "_model_module_version": "1.2.0",
            "_model_name": "LayoutModel",
            "_view_count": null,
            "_view_module": "@jupyter-widgets/base",
            "_view_module_version": "1.2.0",
            "_view_name": "LayoutView",
            "align_content": null,
            "align_items": null,
            "align_self": null,
            "border": null,
            "bottom": null,
            "display": null,
            "flex": null,
            "flex_flow": null,
            "grid_area": null,
            "grid_auto_columns": null,
            "grid_auto_flow": null,
            "grid_auto_rows": null,
            "grid_column": null,
            "grid_gap": null,
            "grid_row": null,
            "grid_template_areas": null,
            "grid_template_columns": null,
            "grid_template_rows": null,
            "height": null,
            "justify_content": null,
            "justify_items": null,
            "left": null,
            "margin": null,
            "max_height": null,
            "max_width": null,
            "min_height": null,
            "min_width": null,
            "object_fit": null,
            "object_position": null,
            "order": null,
            "overflow": null,
            "overflow_x": null,
            "overflow_y": null,
            "padding": null,
            "right": null,
            "top": null,
            "visibility": null,
            "width": null
          }
        },
        "ad6043ab17fd42739b419a996425b741": {
          "model_module": "@jupyter-widgets/controls",
          "model_name": "DescriptionStyleModel",
          "model_module_version": "1.5.0",
          "state": {
            "_model_module": "@jupyter-widgets/controls",
            "_model_module_version": "1.5.0",
            "_model_name": "DescriptionStyleModel",
            "_view_count": null,
            "_view_module": "@jupyter-widgets/base",
            "_view_module_version": "1.2.0",
            "_view_name": "StyleView",
            "description_width": ""
          }
        },
        "af1ae9915df24b4dbd0640767c2ce0c2": {
          "model_module": "@jupyter-widgets/base",
          "model_name": "LayoutModel",
          "model_module_version": "1.2.0",
          "state": {
            "_model_module": "@jupyter-widgets/base",
            "_model_module_version": "1.2.0",
            "_model_name": "LayoutModel",
            "_view_count": null,
            "_view_module": "@jupyter-widgets/base",
            "_view_module_version": "1.2.0",
            "_view_name": "LayoutView",
            "align_content": null,
            "align_items": null,
            "align_self": null,
            "border": null,
            "bottom": null,
            "display": null,
            "flex": null,
            "flex_flow": null,
            "grid_area": null,
            "grid_auto_columns": null,
            "grid_auto_flow": null,
            "grid_auto_rows": null,
            "grid_column": null,
            "grid_gap": null,
            "grid_row": null,
            "grid_template_areas": null,
            "grid_template_columns": null,
            "grid_template_rows": null,
            "height": null,
            "justify_content": null,
            "justify_items": null,
            "left": null,
            "margin": null,
            "max_height": null,
            "max_width": null,
            "min_height": null,
            "min_width": null,
            "object_fit": null,
            "object_position": null,
            "order": null,
            "overflow": null,
            "overflow_x": null,
            "overflow_y": null,
            "padding": null,
            "right": null,
            "top": null,
            "visibility": null,
            "width": null
          }
        },
        "261a8b651e114f9499081b75866d1dd9": {
          "model_module": "@jupyter-widgets/controls",
          "model_name": "ProgressStyleModel",
          "model_module_version": "1.5.0",
          "state": {
            "_model_module": "@jupyter-widgets/controls",
            "_model_module_version": "1.5.0",
            "_model_name": "ProgressStyleModel",
            "_view_count": null,
            "_view_module": "@jupyter-widgets/base",
            "_view_module_version": "1.2.0",
            "_view_name": "StyleView",
            "bar_color": null,
            "description_width": ""
          }
        },
        "b7456ce1dcd54375afdac70eac10688b": {
          "model_module": "@jupyter-widgets/base",
          "model_name": "LayoutModel",
          "model_module_version": "1.2.0",
          "state": {
            "_model_module": "@jupyter-widgets/base",
            "_model_module_version": "1.2.0",
            "_model_name": "LayoutModel",
            "_view_count": null,
            "_view_module": "@jupyter-widgets/base",
            "_view_module_version": "1.2.0",
            "_view_name": "LayoutView",
            "align_content": null,
            "align_items": null,
            "align_self": null,
            "border": null,
            "bottom": null,
            "display": null,
            "flex": null,
            "flex_flow": null,
            "grid_area": null,
            "grid_auto_columns": null,
            "grid_auto_flow": null,
            "grid_auto_rows": null,
            "grid_column": null,
            "grid_gap": null,
            "grid_row": null,
            "grid_template_areas": null,
            "grid_template_columns": null,
            "grid_template_rows": null,
            "height": null,
            "justify_content": null,
            "justify_items": null,
            "left": null,
            "margin": null,
            "max_height": null,
            "max_width": null,
            "min_height": null,
            "min_width": null,
            "object_fit": null,
            "object_position": null,
            "order": null,
            "overflow": null,
            "overflow_x": null,
            "overflow_y": null,
            "padding": null,
            "right": null,
            "top": null,
            "visibility": null,
            "width": null
          }
        },
        "2272d3913a56477384590535e8312c22": {
          "model_module": "@jupyter-widgets/controls",
          "model_name": "DescriptionStyleModel",
          "model_module_version": "1.5.0",
          "state": {
            "_model_module": "@jupyter-widgets/controls",
            "_model_module_version": "1.5.0",
            "_model_name": "DescriptionStyleModel",
            "_view_count": null,
            "_view_module": "@jupyter-widgets/base",
            "_view_module_version": "1.2.0",
            "_view_name": "StyleView",
            "description_width": ""
          }
        },
        "59011872d8954f9096802854409bfbba": {
          "model_module": "@jupyter-widgets/controls",
          "model_name": "HBoxModel",
          "model_module_version": "1.5.0",
          "state": {
            "_dom_classes": [],
            "_model_module": "@jupyter-widgets/controls",
            "_model_module_version": "1.5.0",
            "_model_name": "HBoxModel",
            "_view_count": null,
            "_view_module": "@jupyter-widgets/controls",
            "_view_module_version": "1.5.0",
            "_view_name": "HBoxView",
            "box_style": "",
            "children": [
              "IPY_MODEL_1425ba307a8242ea8e43ff40b61ba7c6",
              "IPY_MODEL_d5420735c48446da9ac0ee815cbc5cc2",
              "IPY_MODEL_311734a5540246b39e56938413a991ea"
            ],
            "layout": "IPY_MODEL_857c0166283c4f10a780e533d2957ab9"
          }
        },
        "1425ba307a8242ea8e43ff40b61ba7c6": {
          "model_module": "@jupyter-widgets/controls",
          "model_name": "HTMLModel",
          "model_module_version": "1.5.0",
          "state": {
            "_dom_classes": [],
            "_model_module": "@jupyter-widgets/controls",
            "_model_module_version": "1.5.0",
            "_model_name": "HTMLModel",
            "_view_count": null,
            "_view_module": "@jupyter-widgets/controls",
            "_view_module_version": "1.5.0",
            "_view_name": "HTMLView",
            "description": "",
            "description_tooltip": null,
            "layout": "IPY_MODEL_5cdf9f6a6096488e9d07d8adba330b61",
            "placeholder": "​",
            "style": "IPY_MODEL_d59c34491b1045cd8572f06cea7bd0af",
            "value": "Downloading (…)mer/modeling_bert.py: 100%"
          }
        },
        "d5420735c48446da9ac0ee815cbc5cc2": {
          "model_module": "@jupyter-widgets/controls",
          "model_name": "FloatProgressModel",
          "model_module_version": "1.5.0",
          "state": {
            "_dom_classes": [],
            "_model_module": "@jupyter-widgets/controls",
            "_model_module_version": "1.5.0",
            "_model_name": "FloatProgressModel",
            "_view_count": null,
            "_view_module": "@jupyter-widgets/controls",
            "_view_module_version": "1.5.0",
            "_view_name": "ProgressView",
            "bar_style": "success",
            "description": "",
            "description_tooltip": null,
            "layout": "IPY_MODEL_8ae22cc6cc994ab69fb15e17352c10a8",
            "max": 99821,
            "min": 0,
            "orientation": "horizontal",
            "style": "IPY_MODEL_9ba0d4c7a6c84b06849482c6ec6c5373",
            "value": 99821
          }
        },
        "311734a5540246b39e56938413a991ea": {
          "model_module": "@jupyter-widgets/controls",
          "model_name": "HTMLModel",
          "model_module_version": "1.5.0",
          "state": {
            "_dom_classes": [],
            "_model_module": "@jupyter-widgets/controls",
            "_model_module_version": "1.5.0",
            "_model_name": "HTMLModel",
            "_view_count": null,
            "_view_module": "@jupyter-widgets/controls",
            "_view_module_version": "1.5.0",
            "_view_name": "HTMLView",
            "description": "",
            "description_tooltip": null,
            "layout": "IPY_MODEL_c4f60305b3b04c9ebe8e9f1147b14197",
            "placeholder": "​",
            "style": "IPY_MODEL_19c698fcb5004fc593d311fc60aeb37b",
            "value": " 99.8k/99.8k [00:00&lt;00:00, 3.87MB/s]"
          }
        },
        "857c0166283c4f10a780e533d2957ab9": {
          "model_module": "@jupyter-widgets/base",
          "model_name": "LayoutModel",
          "model_module_version": "1.2.0",
          "state": {
            "_model_module": "@jupyter-widgets/base",
            "_model_module_version": "1.2.0",
            "_model_name": "LayoutModel",
            "_view_count": null,
            "_view_module": "@jupyter-widgets/base",
            "_view_module_version": "1.2.0",
            "_view_name": "LayoutView",
            "align_content": null,
            "align_items": null,
            "align_self": null,
            "border": null,
            "bottom": null,
            "display": null,
            "flex": null,
            "flex_flow": null,
            "grid_area": null,
            "grid_auto_columns": null,
            "grid_auto_flow": null,
            "grid_auto_rows": null,
            "grid_column": null,
            "grid_gap": null,
            "grid_row": null,
            "grid_template_areas": null,
            "grid_template_columns": null,
            "grid_template_rows": null,
            "height": null,
            "justify_content": null,
            "justify_items": null,
            "left": null,
            "margin": null,
            "max_height": null,
            "max_width": null,
            "min_height": null,
            "min_width": null,
            "object_fit": null,
            "object_position": null,
            "order": null,
            "overflow": null,
            "overflow_x": null,
            "overflow_y": null,
            "padding": null,
            "right": null,
            "top": null,
            "visibility": null,
            "width": null
          }
        },
        "5cdf9f6a6096488e9d07d8adba330b61": {
          "model_module": "@jupyter-widgets/base",
          "model_name": "LayoutModel",
          "model_module_version": "1.2.0",
          "state": {
            "_model_module": "@jupyter-widgets/base",
            "_model_module_version": "1.2.0",
            "_model_name": "LayoutModel",
            "_view_count": null,
            "_view_module": "@jupyter-widgets/base",
            "_view_module_version": "1.2.0",
            "_view_name": "LayoutView",
            "align_content": null,
            "align_items": null,
            "align_self": null,
            "border": null,
            "bottom": null,
            "display": null,
            "flex": null,
            "flex_flow": null,
            "grid_area": null,
            "grid_auto_columns": null,
            "grid_auto_flow": null,
            "grid_auto_rows": null,
            "grid_column": null,
            "grid_gap": null,
            "grid_row": null,
            "grid_template_areas": null,
            "grid_template_columns": null,
            "grid_template_rows": null,
            "height": null,
            "justify_content": null,
            "justify_items": null,
            "left": null,
            "margin": null,
            "max_height": null,
            "max_width": null,
            "min_height": null,
            "min_width": null,
            "object_fit": null,
            "object_position": null,
            "order": null,
            "overflow": null,
            "overflow_x": null,
            "overflow_y": null,
            "padding": null,
            "right": null,
            "top": null,
            "visibility": null,
            "width": null
          }
        },
        "d59c34491b1045cd8572f06cea7bd0af": {
          "model_module": "@jupyter-widgets/controls",
          "model_name": "DescriptionStyleModel",
          "model_module_version": "1.5.0",
          "state": {
            "_model_module": "@jupyter-widgets/controls",
            "_model_module_version": "1.5.0",
            "_model_name": "DescriptionStyleModel",
            "_view_count": null,
            "_view_module": "@jupyter-widgets/base",
            "_view_module_version": "1.2.0",
            "_view_name": "StyleView",
            "description_width": ""
          }
        },
        "8ae22cc6cc994ab69fb15e17352c10a8": {
          "model_module": "@jupyter-widgets/base",
          "model_name": "LayoutModel",
          "model_module_version": "1.2.0",
          "state": {
            "_model_module": "@jupyter-widgets/base",
            "_model_module_version": "1.2.0",
            "_model_name": "LayoutModel",
            "_view_count": null,
            "_view_module": "@jupyter-widgets/base",
            "_view_module_version": "1.2.0",
            "_view_name": "LayoutView",
            "align_content": null,
            "align_items": null,
            "align_self": null,
            "border": null,
            "bottom": null,
            "display": null,
            "flex": null,
            "flex_flow": null,
            "grid_area": null,
            "grid_auto_columns": null,
            "grid_auto_flow": null,
            "grid_auto_rows": null,
            "grid_column": null,
            "grid_gap": null,
            "grid_row": null,
            "grid_template_areas": null,
            "grid_template_columns": null,
            "grid_template_rows": null,
            "height": null,
            "justify_content": null,
            "justify_items": null,
            "left": null,
            "margin": null,
            "max_height": null,
            "max_width": null,
            "min_height": null,
            "min_width": null,
            "object_fit": null,
            "object_position": null,
            "order": null,
            "overflow": null,
            "overflow_x": null,
            "overflow_y": null,
            "padding": null,
            "right": null,
            "top": null,
            "visibility": null,
            "width": null
          }
        },
        "9ba0d4c7a6c84b06849482c6ec6c5373": {
          "model_module": "@jupyter-widgets/controls",
          "model_name": "ProgressStyleModel",
          "model_module_version": "1.5.0",
          "state": {
            "_model_module": "@jupyter-widgets/controls",
            "_model_module_version": "1.5.0",
            "_model_name": "ProgressStyleModel",
            "_view_count": null,
            "_view_module": "@jupyter-widgets/base",
            "_view_module_version": "1.2.0",
            "_view_name": "StyleView",
            "bar_color": null,
            "description_width": ""
          }
        },
        "c4f60305b3b04c9ebe8e9f1147b14197": {
          "model_module": "@jupyter-widgets/base",
          "model_name": "LayoutModel",
          "model_module_version": "1.2.0",
          "state": {
            "_model_module": "@jupyter-widgets/base",
            "_model_module_version": "1.2.0",
            "_model_name": "LayoutModel",
            "_view_count": null,
            "_view_module": "@jupyter-widgets/base",
            "_view_module_version": "1.2.0",
            "_view_name": "LayoutView",
            "align_content": null,
            "align_items": null,
            "align_self": null,
            "border": null,
            "bottom": null,
            "display": null,
            "flex": null,
            "flex_flow": null,
            "grid_area": null,
            "grid_auto_columns": null,
            "grid_auto_flow": null,
            "grid_auto_rows": null,
            "grid_column": null,
            "grid_gap": null,
            "grid_row": null,
            "grid_template_areas": null,
            "grid_template_columns": null,
            "grid_template_rows": null,
            "height": null,
            "justify_content": null,
            "justify_items": null,
            "left": null,
            "margin": null,
            "max_height": null,
            "max_width": null,
            "min_height": null,
            "min_width": null,
            "object_fit": null,
            "object_position": null,
            "order": null,
            "overflow": null,
            "overflow_x": null,
            "overflow_y": null,
            "padding": null,
            "right": null,
            "top": null,
            "visibility": null,
            "width": null
          }
        },
        "19c698fcb5004fc593d311fc60aeb37b": {
          "model_module": "@jupyter-widgets/controls",
          "model_name": "DescriptionStyleModel",
          "model_module_version": "1.5.0",
          "state": {
            "_model_module": "@jupyter-widgets/controls",
            "_model_module_version": "1.5.0",
            "_model_name": "DescriptionStyleModel",
            "_view_count": null,
            "_view_module": "@jupyter-widgets/base",
            "_view_module_version": "1.2.0",
            "_view_name": "StyleView",
            "description_width": ""
          }
        },
        "ee86290923734e1aa82a555e983bdced": {
          "model_module": "@jupyter-widgets/controls",
          "model_name": "HBoxModel",
          "model_module_version": "1.5.0",
          "state": {
            "_dom_classes": [],
            "_model_module": "@jupyter-widgets/controls",
            "_model_module_version": "1.5.0",
            "_model_name": "HBoxModel",
            "_view_count": null,
            "_view_module": "@jupyter-widgets/controls",
            "_view_module_version": "1.5.0",
            "_view_name": "HBoxView",
            "box_style": "",
            "children": [
              "IPY_MODEL_6d7141c122554ec49c3dc239fe413578",
              "IPY_MODEL_eb54f3105a7546ffa329ed15ee1d43ce",
              "IPY_MODEL_2423c3bf10d34f8ebfc05f5ade4f278b"
            ],
            "layout": "IPY_MODEL_884f5d9fcca3404f9a9a8c80b71111dc"
          }
        },
        "6d7141c122554ec49c3dc239fe413578": {
          "model_module": "@jupyter-widgets/controls",
          "model_name": "HTMLModel",
          "model_module_version": "1.5.0",
          "state": {
            "_dom_classes": [],
            "_model_module": "@jupyter-widgets/controls",
            "_model_module_version": "1.5.0",
            "_model_name": "HTMLModel",
            "_view_count": null,
            "_view_module": "@jupyter-widgets/controls",
            "_view_module_version": "1.5.0",
            "_view_name": "HTMLView",
            "description": "",
            "description_tooltip": null,
            "layout": "IPY_MODEL_1fd95440871849da8a0c4fd608ba4c62",
            "placeholder": "​",
            "style": "IPY_MODEL_d8817c0e28924546aa1bdf2762e0bcc4",
            "value": "Downloading pytorch_model.bin: 100%"
          }
        },
        "eb54f3105a7546ffa329ed15ee1d43ce": {
          "model_module": "@jupyter-widgets/controls",
          "model_name": "FloatProgressModel",
          "model_module_version": "1.5.0",
          "state": {
            "_dom_classes": [],
            "_model_module": "@jupyter-widgets/controls",
            "_model_module_version": "1.5.0",
            "_model_name": "FloatProgressModel",
            "_view_count": null,
            "_view_module": "@jupyter-widgets/controls",
            "_view_module_version": "1.5.0",
            "_view_name": "ProgressView",
            "bar_style": "success",
            "description": "",
            "description_tooltip": null,
            "layout": "IPY_MODEL_2004bfbf00634f7d9218f0d46306e611",
            "max": 456536429,
            "min": 0,
            "orientation": "horizontal",
            "style": "IPY_MODEL_ff2b529832f24e52b2664e886a3a5d87",
            "value": 456536429
          }
        },
        "2423c3bf10d34f8ebfc05f5ade4f278b": {
          "model_module": "@jupyter-widgets/controls",
          "model_name": "HTMLModel",
          "model_module_version": "1.5.0",
          "state": {
            "_dom_classes": [],
            "_model_module": "@jupyter-widgets/controls",
            "_model_module_version": "1.5.0",
            "_model_name": "HTMLModel",
            "_view_count": null,
            "_view_module": "@jupyter-widgets/controls",
            "_view_module_version": "1.5.0",
            "_view_name": "HTMLView",
            "description": "",
            "description_tooltip": null,
            "layout": "IPY_MODEL_d0d975a21dd84cb7abd57ac62830bbfd",
            "placeholder": "​",
            "style": "IPY_MODEL_a91994387ed84a0da2d2b691875dfaa3",
            "value": " 457M/457M [00:05&lt;00:00, 43.5MB/s]"
          }
        },
        "884f5d9fcca3404f9a9a8c80b71111dc": {
          "model_module": "@jupyter-widgets/base",
          "model_name": "LayoutModel",
          "model_module_version": "1.2.0",
          "state": {
            "_model_module": "@jupyter-widgets/base",
            "_model_module_version": "1.2.0",
            "_model_name": "LayoutModel",
            "_view_count": null,
            "_view_module": "@jupyter-widgets/base",
            "_view_module_version": "1.2.0",
            "_view_name": "LayoutView",
            "align_content": null,
            "align_items": null,
            "align_self": null,
            "border": null,
            "bottom": null,
            "display": null,
            "flex": null,
            "flex_flow": null,
            "grid_area": null,
            "grid_auto_columns": null,
            "grid_auto_flow": null,
            "grid_auto_rows": null,
            "grid_column": null,
            "grid_gap": null,
            "grid_row": null,
            "grid_template_areas": null,
            "grid_template_columns": null,
            "grid_template_rows": null,
            "height": null,
            "justify_content": null,
            "justify_items": null,
            "left": null,
            "margin": null,
            "max_height": null,
            "max_width": null,
            "min_height": null,
            "min_width": null,
            "object_fit": null,
            "object_position": null,
            "order": null,
            "overflow": null,
            "overflow_x": null,
            "overflow_y": null,
            "padding": null,
            "right": null,
            "top": null,
            "visibility": null,
            "width": null
          }
        },
        "1fd95440871849da8a0c4fd608ba4c62": {
          "model_module": "@jupyter-widgets/base",
          "model_name": "LayoutModel",
          "model_module_version": "1.2.0",
          "state": {
            "_model_module": "@jupyter-widgets/base",
            "_model_module_version": "1.2.0",
            "_model_name": "LayoutModel",
            "_view_count": null,
            "_view_module": "@jupyter-widgets/base",
            "_view_module_version": "1.2.0",
            "_view_name": "LayoutView",
            "align_content": null,
            "align_items": null,
            "align_self": null,
            "border": null,
            "bottom": null,
            "display": null,
            "flex": null,
            "flex_flow": null,
            "grid_area": null,
            "grid_auto_columns": null,
            "grid_auto_flow": null,
            "grid_auto_rows": null,
            "grid_column": null,
            "grid_gap": null,
            "grid_row": null,
            "grid_template_areas": null,
            "grid_template_columns": null,
            "grid_template_rows": null,
            "height": null,
            "justify_content": null,
            "justify_items": null,
            "left": null,
            "margin": null,
            "max_height": null,
            "max_width": null,
            "min_height": null,
            "min_width": null,
            "object_fit": null,
            "object_position": null,
            "order": null,
            "overflow": null,
            "overflow_x": null,
            "overflow_y": null,
            "padding": null,
            "right": null,
            "top": null,
            "visibility": null,
            "width": null
          }
        },
        "d8817c0e28924546aa1bdf2762e0bcc4": {
          "model_module": "@jupyter-widgets/controls",
          "model_name": "DescriptionStyleModel",
          "model_module_version": "1.5.0",
          "state": {
            "_model_module": "@jupyter-widgets/controls",
            "_model_module_version": "1.5.0",
            "_model_name": "DescriptionStyleModel",
            "_view_count": null,
            "_view_module": "@jupyter-widgets/base",
            "_view_module_version": "1.2.0",
            "_view_name": "StyleView",
            "description_width": ""
          }
        },
        "2004bfbf00634f7d9218f0d46306e611": {
          "model_module": "@jupyter-widgets/base",
          "model_name": "LayoutModel",
          "model_module_version": "1.2.0",
          "state": {
            "_model_module": "@jupyter-widgets/base",
            "_model_module_version": "1.2.0",
            "_model_name": "LayoutModel",
            "_view_count": null,
            "_view_module": "@jupyter-widgets/base",
            "_view_module_version": "1.2.0",
            "_view_name": "LayoutView",
            "align_content": null,
            "align_items": null,
            "align_self": null,
            "border": null,
            "bottom": null,
            "display": null,
            "flex": null,
            "flex_flow": null,
            "grid_area": null,
            "grid_auto_columns": null,
            "grid_auto_flow": null,
            "grid_auto_rows": null,
            "grid_column": null,
            "grid_gap": null,
            "grid_row": null,
            "grid_template_areas": null,
            "grid_template_columns": null,
            "grid_template_rows": null,
            "height": null,
            "justify_content": null,
            "justify_items": null,
            "left": null,
            "margin": null,
            "max_height": null,
            "max_width": null,
            "min_height": null,
            "min_width": null,
            "object_fit": null,
            "object_position": null,
            "order": null,
            "overflow": null,
            "overflow_x": null,
            "overflow_y": null,
            "padding": null,
            "right": null,
            "top": null,
            "visibility": null,
            "width": null
          }
        },
        "ff2b529832f24e52b2664e886a3a5d87": {
          "model_module": "@jupyter-widgets/controls",
          "model_name": "ProgressStyleModel",
          "model_module_version": "1.5.0",
          "state": {
            "_model_module": "@jupyter-widgets/controls",
            "_model_module_version": "1.5.0",
            "_model_name": "ProgressStyleModel",
            "_view_count": null,
            "_view_module": "@jupyter-widgets/base",
            "_view_module_version": "1.2.0",
            "_view_name": "StyleView",
            "bar_color": null,
            "description_width": ""
          }
        },
        "d0d975a21dd84cb7abd57ac62830bbfd": {
          "model_module": "@jupyter-widgets/base",
          "model_name": "LayoutModel",
          "model_module_version": "1.2.0",
          "state": {
            "_model_module": "@jupyter-widgets/base",
            "_model_module_version": "1.2.0",
            "_model_name": "LayoutModel",
            "_view_count": null,
            "_view_module": "@jupyter-widgets/base",
            "_view_module_version": "1.2.0",
            "_view_name": "LayoutView",
            "align_content": null,
            "align_items": null,
            "align_self": null,
            "border": null,
            "bottom": null,
            "display": null,
            "flex": null,
            "flex_flow": null,
            "grid_area": null,
            "grid_auto_columns": null,
            "grid_auto_flow": null,
            "grid_auto_rows": null,
            "grid_column": null,
            "grid_gap": null,
            "grid_row": null,
            "grid_template_areas": null,
            "grid_template_columns": null,
            "grid_template_rows": null,
            "height": null,
            "justify_content": null,
            "justify_items": null,
            "left": null,
            "margin": null,
            "max_height": null,
            "max_width": null,
            "min_height": null,
            "min_width": null,
            "object_fit": null,
            "object_position": null,
            "order": null,
            "overflow": null,
            "overflow_x": null,
            "overflow_y": null,
            "padding": null,
            "right": null,
            "top": null,
            "visibility": null,
            "width": null
          }
        },
        "a91994387ed84a0da2d2b691875dfaa3": {
          "model_module": "@jupyter-widgets/controls",
          "model_name": "DescriptionStyleModel",
          "model_module_version": "1.5.0",
          "state": {
            "_model_module": "@jupyter-widgets/controls",
            "_model_module_version": "1.5.0",
            "_model_name": "DescriptionStyleModel",
            "_view_count": null,
            "_view_module": "@jupyter-widgets/base",
            "_view_module_version": "1.2.0",
            "_view_name": "StyleView",
            "description_width": ""
          }
        }
      }
    }
  },
  "nbformat": 4,
  "nbformat_minor": 0
}